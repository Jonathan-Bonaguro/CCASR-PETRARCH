{
 "cells": [
  {
   "cell_type": "markdown",
   "metadata": {},
   "source": [
    "# Event Analysis CAMEO Code 145\n",
    "<br>\n",
    "> Utilize StanfordNLP to parse sentences to update PETRARCH dictionaries for events with low recall\n",
    "<br>\n",
    "<br>\n",
    "\n",
    "#### Install StanfordNLP and English Dictionary"
   ]
  },
  {
   "cell_type": "code",
   "execution_count": 1,
   "metadata": {},
   "outputs": [],
   "source": [
    "import stanfordnlp\n",
    "import pandas as pd"
   ]
  },
  {
   "cell_type": "code",
   "execution_count": 24,
   "metadata": {},
   "outputs": [
    {
     "name": "stdout",
     "output_type": "stream",
     "text": [
      "Using the default treebank \"en_ewt\" for language \"en\".\n",
      "Would you like to download the models for: en_ewt now? (Y/n)\n",
      "Y\n",
      "\n",
      "Default download directory: /Users/jonathanbonaguro/stanfordnlp_resources\n",
      "Hit enter to continue or type an alternate directory.\n",
      "\n",
      "\n",
      "Downloading models for: en_ewt\n",
      "Download location: /Users/jonathanbonaguro/stanfordnlp_resources/en_ewt_models.zip\n"
     ]
    },
    {
     "name": "stderr",
     "output_type": "stream",
     "text": [
      "100%|██████████| 235M/235M [00:29<00:00, 7.34MB/s] \n"
     ]
    },
    {
     "name": "stdout",
     "output_type": "stream",
     "text": [
      "\n",
      "Download complete.  Models saved to: /Users/jonathanbonaguro/stanfordnlp_resources/en_ewt_models.zip\n",
      "Extracting models file for: en_ewt\n",
      "Cleaning up...Done.\n"
     ]
    }
   ],
   "source": [
    "stanfordnlp.download('en')"
   ]
  },
  {
   "cell_type": "code",
   "execution_count": 2,
   "metadata": {},
   "outputs": [
    {
     "name": "stdout",
     "output_type": "stream",
     "text": [
      "Use device: cpu\n",
      "---\n",
      "Loading: tokenize\n",
      "With settings: \n",
      "{'model_path': '/Users/jonathanbonaguro/stanfordnlp_resources/en_ewt_models/en_ewt_tokenizer.pt', 'lang': 'en', 'shorthand': 'en_ewt', 'mode': 'predict'}\n",
      "---\n",
      "Loading: pos\n",
      "With settings: \n",
      "{'model_path': '/Users/jonathanbonaguro/stanfordnlp_resources/en_ewt_models/en_ewt_tagger.pt', 'pretrain_path': '/Users/jonathanbonaguro/stanfordnlp_resources/en_ewt_models/en_ewt.pretrain.pt', 'lang': 'en', 'shorthand': 'en_ewt', 'mode': 'predict'}\n",
      "---\n",
      "Loading: lemma\n",
      "With settings: \n",
      "{'model_path': '/Users/jonathanbonaguro/stanfordnlp_resources/en_ewt_models/en_ewt_lemmatizer.pt', 'lang': 'en', 'shorthand': 'en_ewt', 'mode': 'predict'}\n",
      "Building an attentional Seq2Seq model...\n",
      "Using a Bi-LSTM encoder\n",
      "Using soft attention for LSTM.\n",
      "Finetune all embeddings.\n",
      "[Running seq2seq lemmatizer with edit classifier]\n",
      "---\n",
      "Loading: depparse\n",
      "With settings: \n",
      "{'model_path': '/Users/jonathanbonaguro/stanfordnlp_resources/en_ewt_models/en_ewt_parser.pt', 'pretrain_path': '/Users/jonathanbonaguro/stanfordnlp_resources/en_ewt_models/en_ewt.pretrain.pt', 'lang': 'en', 'shorthand': 'en_ewt', 'mode': 'predict'}\n",
      "Done loading processors!\n",
      "---\n"
     ]
    }
   ],
   "source": [
    "nlp = stanfordnlp.Pipeline()"
   ]
  },
  {
   "cell_type": "markdown",
   "metadata": {},
   "source": [
    "#### Example"
   ]
  },
  {
   "cell_type": "code",
   "execution_count": 11,
   "metadata": {},
   "outputs": [
    {
     "name": "stdout",
     "output_type": "stream",
     "text": [
      "('He', '3', 'nsubj:pass')\n",
      "('was', '3', 'aux:pass')\n",
      "('elected', '0', 'root')\n",
      "('president', '3', 'xcomp')\n",
      "('in', '6', 'case')\n",
      "('2008', '3', 'obl')\n",
      "('.', '3', 'punct')\n"
     ]
    },
    {
     "name": "stderr",
     "output_type": "stream",
     "text": [
      "../aten/src/ATen/native/LegacyDefinitions.cpp:19: UserWarning: masked_fill_ received a mask with dtype torch.uint8, this behavior is now deprecated,please use a mask with dtype torch.bool instead.\n"
     ]
    }
   ],
   "source": [
    "ex = nlp(\"Barack Obama was born in Hawaii.  He was elected president in 2008.\")\n",
    "ex.sentences[1].print_dependencies()"
   ]
  },
  {
   "cell_type": "markdown",
   "metadata": {},
   "source": [
    "#### Import Data for Parsing\n",
    "NYTimes articles parsed by BBN Accent"
   ]
  },
  {
   "cell_type": "code",
   "execution_count": 13,
   "metadata": {},
   "outputs": [
    {
     "data": {
      "text/plain": [
       "['aid', 'code', 'text', 'bad']"
      ]
     },
     "execution_count": 13,
     "metadata": {},
     "output_type": "execute_result"
    }
   ],
   "source": [
    "# Trim down to small batch for test\n",
    "extract = pd.read_csv('nytextract.csv')\n",
    "test = extract[extract.code == 145]\n",
    "small = test[1:6]\n",
    "list(small)"
   ]
  },
  {
   "cell_type": "code",
   "execution_count": 17,
   "metadata": {},
   "outputs": [
    {
     "data": {
      "text/html": [
       "<div>\n",
       "<style scoped>\n",
       "    .dataframe tbody tr th:only-of-type {\n",
       "        vertical-align: middle;\n",
       "    }\n",
       "\n",
       "    .dataframe tbody tr th {\n",
       "        vertical-align: top;\n",
       "    }\n",
       "\n",
       "    .dataframe thead th {\n",
       "        text-align: right;\n",
       "    }\n",
       "</style>\n",
       "<table border=\"1\" class=\"dataframe\">\n",
       "  <thead>\n",
       "    <tr style=\"text-align: right;\">\n",
       "      <th></th>\n",
       "      <th>text</th>\n",
       "    </tr>\n",
       "  </thead>\n",
       "  <tbody>\n",
       "    <tr>\n",
       "      <th>241</th>\n",
       "      <td>\"Thirty-four men arrested late last night were...</td>\n",
       "    </tr>\n",
       "    <tr>\n",
       "      <th>242</th>\n",
       "      <td>\"In the worst outbreak of street violence in 1...</td>\n",
       "    </tr>\n",
       "    <tr>\n",
       "      <th>243</th>\n",
       "      <td>Paris policemen and leftist extremists clash a...</td>\n",
       "    </tr>\n",
       "    <tr>\n",
       "      <th>244</th>\n",
       "      <td>Violence occurred through most of the day, des...</td>\n",
       "    </tr>\n",
       "    <tr>\n",
       "      <th>245</th>\n",
       "      <td>Violence occurred through most of the day, des...</td>\n",
       "    </tr>\n",
       "  </tbody>\n",
       "</table>\n",
       "</div>"
      ],
      "text/plain": [
       "                                                  text\n",
       "241  \"Thirty-four men arrested late last night were...\n",
       "242  \"In the worst outbreak of street violence in 1...\n",
       "243  Paris policemen and leftist extremists clash a...\n",
       "244  Violence occurred through most of the day, des...\n",
       "245  Violence occurred through most of the day, des..."
      ]
     },
     "execution_count": 17,
     "metadata": {},
     "output_type": "execute_result"
    }
   ],
   "source": [
    "doc = small['text']\n",
    "pd.DataFrame(doc)"
   ]
  },
  {
   "cell_type": "code",
   "execution_count": 21,
   "metadata": {},
   "outputs": [
    {
     "name": "stdout",
     "output_type": "stream",
     "text": [
      "('\"', '21', 'punct')\n",
      "('In', '5', 'case')\n",
      "('the', '5', 'det')\n",
      "('worst', '5', 'amod')\n",
      "('outbreak', '21', 'obl')\n",
      "('of', '8', 'case')\n",
      "('street', '8', 'compound')\n",
      "('violence', '5', 'nmod')\n",
      "('in', '11', 'case')\n",
      "('14', '11', 'nummod')\n",
      "('months', '5', 'nmod')\n",
      "('of', '14', 'case')\n",
      "('labor', '14', 'compound')\n",
      "('unrest', '11', 'nmod')\n",
      "(',', '21', 'punct')\n",
      "('the', '17', 'det')\n",
      "('police', '21', 'nsubj')\n",
      "('in', '19', 'case')\n",
      "('Katowice', '17', 'nmod')\n",
      "('today', '21', 'obl:tmod')\n",
      "('battled', '0', 'root')\n",
      "('5,000', '23', 'nummod')\n",
      "('protesters', '21', 'obj')\n",
      "('who', '27', 'nsubj:pass')\n",
      "('had', '27', 'aux')\n",
      "('been', '27', 'aux:pass')\n",
      "('angered', '23', 'acl:relcl')\n",
      "('by', '30', 'case')\n",
      "('the', '30', 'det')\n",
      "('arrest', '27', 'obl')\n",
      "('of', '34', 'case')\n",
      "('three', '34', 'nummod')\n",
      "('Solidarity', '34', 'compound')\n",
      "('activists', '30', 'nmod')\n",
      "('for', '36', 'mark')\n",
      "('distributing', '34', 'acl')\n",
      "('leaflets', '36', 'obj')\n",
      "('.', '21', 'punct')\n"
     ]
    },
    {
     "name": "stderr",
     "output_type": "stream",
     "text": [
      "../aten/src/ATen/native/LegacyDefinitions.cpp:19: UserWarning: masked_fill_ received a mask with dtype torch.uint8, this behavior is now deprecated,please use a mask with dtype torch.bool instead.\n"
     ]
    }
   ],
   "source": [
    "# Test parse one sentence of obj \"small\"\n",
    "sent = nlp(small.iloc[1,2])\n",
    "sent.sentences[0].print_dependencies()"
   ]
  },
  {
   "cell_type": "code",
   "execution_count": 24,
   "metadata": {},
   "outputs": [
    {
     "name": "stderr",
     "output_type": "stream",
     "text": [
      "../aten/src/ATen/native/LegacyDefinitions.cpp:19: UserWarning: masked_fill_ received a mask with dtype torch.uint8, this behavior is now deprecated,please use a mask with dtype torch.bool instead.\n"
     ]
    },
    {
     "name": "stdout",
     "output_type": "stream",
     "text": [
      "('\"', '11', 'punct')\n",
      "('Thirty', '4', 'compound')\n",
      "('-', '4', 'punct')\n",
      "('four', '5', 'nummod')\n",
      "('men', '11', 'nsubj:pass')\n",
      "('arrested', '5', 'acl')\n",
      "('late', '6', 'advmod')\n",
      "('last', '9', 'amod')\n",
      "('night', '6', 'obl:tmod')\n",
      "('were', '11', 'aux:pass')\n",
      "('released', '0', 'root')\n",
      "('from', '13', 'case')\n",
      "('jail', '11', 'obl')\n",
      "('today', '11', 'obl:tmod')\n",
      "('on', '17', 'case')\n",
      "('a', '17', 'det')\n",
      "('variety', '11', 'obl')\n",
      "('of', '20', 'case')\n",
      "('misdemeanor', '20', 'compound')\n",
      "('charges', '17', 'nmod')\n",
      "('involving', '20', 'acl')\n",
      "('the', '24', 'det')\n",
      "('latest', '24', 'amod')\n",
      "('protest', '21', 'obj')\n",
      "('over', '27', 'case')\n",
      "('the', '27', 'det')\n",
      "('use', '24', 'nmod')\n",
      "('of', '30', 'case')\n",
      "('nonunion', '30', 'amod')\n",
      "('coal', '27', 'nmod')\n",
      "('at', '38', 'case')\n",
      "('the', '35', 'det')\n",
      "('Tennessee', '35', 'compound')\n",
      "('Valley', '35', 'compound')\n",
      "('Authority', '38', 'nmod:poss')\n",
      "(\"'s\", '35', 'case')\n",
      "('power', '38', 'compound')\n",
      "('plant', '27', 'nmod')\n",
      "('at', '40', 'case')\n",
      "('Paradise', '38', 'nmod')\n",
      "(',', '40', 'punct')\n",
      "('Ky.', '40', 'appos')\n"
     ]
    },
    {
     "name": "stderr",
     "output_type": "stream",
     "text": [
      "../aten/src/ATen/native/LegacyDefinitions.cpp:19: UserWarning: masked_fill_ received a mask with dtype torch.uint8, this behavior is now deprecated,please use a mask with dtype torch.bool instead.\n",
      "../aten/src/ATen/native/LegacyDefinitions.cpp:19: UserWarning: masked_fill_ received a mask with dtype torch.uint8, this behavior is now deprecated,please use a mask with dtype torch.bool instead.\n"
     ]
    },
    {
     "name": "stdout",
     "output_type": "stream",
     "text": [
      "('\"', '21', 'punct')\n",
      "('In', '5', 'case')\n",
      "('the', '5', 'det')\n",
      "('worst', '5', 'amod')\n",
      "('outbreak', '21', 'obl')\n",
      "('of', '8', 'case')\n",
      "('street', '8', 'compound')\n",
      "('violence', '5', 'nmod')\n",
      "('in', '11', 'case')\n",
      "('14', '11', 'nummod')\n",
      "('months', '5', 'nmod')\n",
      "('of', '14', 'case')\n",
      "('labor', '14', 'compound')\n",
      "('unrest', '11', 'nmod')\n",
      "(',', '21', 'punct')\n",
      "('the', '17', 'det')\n",
      "('police', '21', 'nsubj')\n",
      "('in', '19', 'case')\n",
      "('Katowice', '17', 'nmod')\n",
      "('today', '21', 'obl:tmod')\n",
      "('battled', '0', 'root')\n",
      "('5,000', '23', 'nummod')\n",
      "('protesters', '21', 'obj')\n",
      "('who', '27', 'nsubj:pass')\n",
      "('had', '27', 'aux')\n",
      "('been', '27', 'aux:pass')\n",
      "('angered', '23', 'acl:relcl')\n",
      "('by', '30', 'case')\n",
      "('the', '30', 'det')\n",
      "('arrest', '27', 'obl')\n",
      "('of', '34', 'case')\n",
      "('three', '34', 'nummod')\n",
      "('Solidarity', '34', 'compound')\n",
      "('activists', '30', 'nmod')\n",
      "('for', '36', 'mark')\n",
      "('distributing', '34', 'acl')\n",
      "('leaflets', '36', 'obj')\n",
      "('.', '21', 'punct')\n",
      "('Paris', '2', 'compound')\n",
      "('policemen', '6', 'nsubj')\n",
      "('and', '5', 'cc')\n",
      "('leftist', '5', 'amod')\n",
      "('extremists', '2', 'conj')\n",
      "('clash', '0', 'root')\n",
      "('at', '9', 'case')\n",
      "('the', '9', 'det')\n",
      "('end', '6', 'obl')\n",
      "('of', '13', 'case')\n",
      "('an', '13', 'det')\n",
      "('antinuclear', '13', 'amod')\n",
      "('demonstration', '9', 'nmod')\n",
      "('.', '6', 'punct')\n"
     ]
    },
    {
     "name": "stderr",
     "output_type": "stream",
     "text": [
      "../aten/src/ATen/native/LegacyDefinitions.cpp:19: UserWarning: masked_fill_ received a mask with dtype torch.uint8, this behavior is now deprecated,please use a mask with dtype torch.bool instead.\n"
     ]
    },
    {
     "name": "stdout",
     "output_type": "stream",
     "text": [
      "('Violence', '2', 'nsubj')\n",
      "('occurred', '0', 'root')\n",
      "('through', '4', 'case')\n",
      "('most', '2', 'obl')\n",
      "('of', '7', 'case')\n",
      "('the', '7', 'det')\n",
      "('day', '4', 'nmod')\n",
      "(',', '2', 'punct')\n",
      "('despite', '10', 'case')\n",
      "('pleas', '2', 'obl')\n",
      "('from', '12', 'case')\n",
      "('supporters', '10', 'nmod')\n",
      "('of', '16', 'case')\n",
      "('the', '16', 'det')\n",
      "('hunger', '16', 'compound')\n",
      "('strikers', '12', 'nmod')\n",
      "('who', '18', 'nsubj')\n",
      "('said', '16', 'acl:relcl')\n",
      "('that', '22', 'mark')\n",
      "('the', '21', 'det')\n",
      "('disturbances', '22', 'nsubj')\n",
      "('eroded', '18', 'ccomp')\n",
      "('sympathy', '22', 'obj')\n",
      "('for', '26', 'case')\n",
      "('imprisoned', '26', 'amod')\n",
      "('nationalists', '23', 'nmod')\n",
      "('from', '29', 'case')\n",
      "('other', '29', 'amod')\n",
      "('Catholics', '26', 'nmod')\n",
      "('in', '32', 'case')\n",
      "('the', '32', 'det')\n",
      "('province', '29', 'nmod')\n",
      "('.\\\\n\\\\n\\\\n\\\\n', '2', 'parataxis')\n",
      "('Violence', '2', 'nsubj')\n",
      "('occurred', '0', 'root')\n",
      "('through', '4', 'case')\n",
      "('most', '2', 'obl')\n",
      "('of', '7', 'case')\n",
      "('the', '7', 'det')\n",
      "('day', '4', 'nmod')\n",
      "(',', '2', 'punct')\n",
      "('despite', '10', 'case')\n",
      "('pleas', '2', 'obl')\n",
      "('from', '12', 'case')\n",
      "('supporters', '10', 'nmod')\n",
      "('of', '16', 'case')\n",
      "('the', '16', 'det')\n",
      "('hunger', '16', 'compound')\n",
      "('strikers', '12', 'nmod')\n",
      "('who', '18', 'nsubj')\n",
      "('said', '16', 'acl:relcl')\n",
      "('that', '22', 'mark')\n",
      "('the', '21', 'det')\n",
      "('disturbances', '22', 'nsubj')\n",
      "('eroded', '18', 'ccomp')\n",
      "('sympathy', '22', 'obj')\n",
      "('for', '26', 'case')\n",
      "('imprisoned', '26', 'amod')\n",
      "('nationalists', '23', 'nmod')\n",
      "('from', '29', 'case')\n",
      "('other', '29', 'amod')\n",
      "('Catholics', '26', 'nmod')\n",
      "('in', '32', 'case')\n",
      "('the', '32', 'det')\n",
      "('province', '29', 'nmod')\n",
      "('.\\\\n\\\\n\\\\n\\\\n', '2', 'parataxis')\n"
     ]
    },
    {
     "name": "stderr",
     "output_type": "stream",
     "text": [
      "../aten/src/ATen/native/LegacyDefinitions.cpp:19: UserWarning: masked_fill_ received a mask with dtype torch.uint8, this behavior is now deprecated,please use a mask with dtype torch.bool instead.\n"
     ]
    }
   ],
   "source": [
    "for i in range(len(small)):\n",
    "    parse = nlp(small.iloc[i,2])\n",
    "    parse.sentences[0].print_dependencies()\n",
    "# Note: Does not parse every sentence"
   ]
  },
  {
   "cell_type": "code",
   "execution_count": 26,
   "metadata": {},
   "outputs": [
    {
     "data": {
      "text/html": [
       "<div>\n",
       "<style scoped>\n",
       "    .dataframe tbody tr th:only-of-type {\n",
       "        vertical-align: middle;\n",
       "    }\n",
       "\n",
       "    .dataframe tbody tr th {\n",
       "        vertical-align: top;\n",
       "    }\n",
       "\n",
       "    .dataframe thead th {\n",
       "        text-align: right;\n",
       "    }\n",
       "</style>\n",
       "<table border=\"1\" class=\"dataframe\">\n",
       "  <thead>\n",
       "    <tr style=\"text-align: right;\">\n",
       "      <th></th>\n",
       "      <th>aid</th>\n",
       "      <th>code</th>\n",
       "      <th>text</th>\n",
       "      <th>bad</th>\n",
       "    </tr>\n",
       "  </thead>\n",
       "  <tbody>\n",
       "    <tr>\n",
       "      <th>247</th>\n",
       "      <td>22456191</td>\n",
       "      <td>145</td>\n",
       "      <td>A P.A.P. dispatch said only that ''groups of u...</td>\n",
       "      <td>0</td>\n",
       "    </tr>\n",
       "    <tr>\n",
       "      <th>248</th>\n",
       "      <td>22456191</td>\n",
       "      <td>145</td>\n",
       "      <td>Riots Last Over 6 Hours\\n\\n\\n\\nOne such decisi...</td>\n",
       "      <td>0</td>\n",
       "    </tr>\n",
       "    <tr>\n",
       "      <th>249</th>\n",
       "      <td>22456191</td>\n",
       "      <td>145</td>\n",
       "      <td>The crowd was as large as 10,000, the sources ...</td>\n",
       "      <td>0</td>\n",
       "    </tr>\n",
       "    <tr>\n",
       "      <th>250</th>\n",
       "      <td>22489425</td>\n",
       "      <td>145</td>\n",
       "      <td>On May 3, the people demonstrated the raw powe...</td>\n",
       "      <td>0</td>\n",
       "    </tr>\n",
       "    <tr>\n",
       "      <th>251</th>\n",
       "      <td>22497647</td>\n",
       "      <td>145</td>\n",
       "      <td>said they feared the violence last Sunday cou...</td>\n",
       "      <td>0</td>\n",
       "    </tr>\n",
       "    <tr>\n",
       "      <th>252</th>\n",
       "      <td>22502980</td>\n",
       "      <td>145</td>\n",
       "      <td>His activities and those of his followers duri...</td>\n",
       "      <td>0</td>\n",
       "    </tr>\n",
       "    <tr>\n",
       "      <th>253</th>\n",
       "      <td>22503890</td>\n",
       "      <td>145</td>\n",
       "      <td>17, of 2195 Ocean Avenue, Brooklyn, Samuel Wi...</td>\n",
       "      <td>0</td>\n",
       "    </tr>\n",
       "    <tr>\n",
       "      <th>254</th>\n",
       "      <td>22503890</td>\n",
       "      <td>145</td>\n",
       "      <td>Unofficial estimates of the crowd size, which ...</td>\n",
       "      <td>0</td>\n",
       "    </tr>\n",
       "  </tbody>\n",
       "</table>\n",
       "</div>"
      ],
      "text/plain": [
       "          aid  code                                               text  bad\n",
       "247  22456191   145  A P.A.P. dispatch said only that ''groups of u...    0\n",
       "248  22456191   145  Riots Last Over 6 Hours\\n\\n\\n\\nOne such decisi...    0\n",
       "249  22456191   145  The crowd was as large as 10,000, the sources ...    0\n",
       "250  22489425   145  On May 3, the people demonstrated the raw powe...    0\n",
       "251  22497647   145   said they feared the violence last Sunday cou...    0\n",
       "252  22502980   145  His activities and those of his followers duri...    0\n",
       "253  22503890   145   17, of 2195 Ocean Avenue, Brooklyn, Samuel Wi...    0\n",
       "254  22503890   145  Unofficial estimates of the crowd size, which ...    0"
      ]
     },
     "execution_count": 26,
     "metadata": {},
     "output_type": "execute_result"
    }
   ],
   "source": [
    "smaller = test[7:15]\n",
    "smaller"
   ]
  },
  {
   "cell_type": "code",
   "execution_count": 27,
   "metadata": {},
   "outputs": [
    {
     "name": "stderr",
     "output_type": "stream",
     "text": [
      "../aten/src/ATen/native/LegacyDefinitions.cpp:19: UserWarning: masked_fill_ received a mask with dtype torch.uint8, this behavior is now deprecated,please use a mask with dtype torch.bool instead.\n"
     ]
    },
    {
     "name": "stdout",
     "output_type": "stream",
     "text": [
      "('A', '3', 'det')\n",
      "('P.A.P.', '3', 'compound')\n",
      "('dispatch', '4', 'nsubj')\n",
      "('said', '45', 'ccomp')\n",
      "('only', '4', 'advmod')\n",
      "('that', '13', 'mark')\n",
      "(\"''\", '8', 'punct')\n",
      "('groups', '13', 'nsubj')\n",
      "('of', '11', 'case')\n",
      "('unruly', '11', 'amod')\n",
      "('youngsters', '8', 'nmod')\n",
      "(\"''\", '8', 'punct')\n",
      "('took', '4', 'ccomp')\n",
      "('to', '16', 'case')\n",
      "('the', '16', 'det')\n",
      "('streets', '13', 'obl')\n",
      "('in', '18', 'case')\n",
      "('rioting', '13', 'obl')\n",
      "(',', '20', 'punct')\n",
      "('shouting', '13', 'advcl')\n",
      "('antistate', '22', 'amod')\n",
      "('slogans', '20', 'obj')\n",
      "('and', '24', 'cc')\n",
      "('destroying', '20', 'conj')\n",
      "('public', '26', 'amod')\n",
      "('facilities', '24', 'obj')\n",
      "('.', '31', 'punct')\n",
      "(\"''\", '31', 'punct')\n",
      "('\\\\', '31', 'punct')\n",
      "('n\\\\n\\\\n\\\\', '31', 'compound')\n",
      "('n', '33', 'compound')\n",
      "(\"''\", '31', 'punct')\n",
      "('Order', '35', 'nsubj:pass')\n",
      "('was', '35', 'aux:pass')\n",
      "('restored', '45', 'ccomp')\n",
      "('by', '41', 'case')\n",
      "('the', '41', 'det')\n",
      "('law', '40', 'compound')\n",
      "('-', '40', 'punct')\n",
      "('enforcement', '41', 'compound')\n",
      "('organ', '35', 'obl')\n",
      "(',', '45', 'punct')\n",
      "(\"''\", '45', 'punct')\n",
      "('it', '45', 'nsubj')\n",
      "('said', '0', 'root')\n",
      "('.', '45', 'punct')\n"
     ]
    },
    {
     "name": "stderr",
     "output_type": "stream",
     "text": [
      "../aten/src/ATen/native/LegacyDefinitions.cpp:19: UserWarning: masked_fill_ received a mask with dtype torch.uint8, this behavior is now deprecated,please use a mask with dtype torch.bool instead.\n"
     ]
    },
    {
     "name": "stdout",
     "output_type": "stream",
     "text": [
      "('Riots', '0', 'root')\n",
      "('Last', '1', 'amod')\n",
      "('Over', '5', 'case')\n",
      "('6', '5', 'nummod')\n",
      "('Hours\\\\n\\\\n\\\\n\\\\n', '1', 'nmod')\n"
     ]
    },
    {
     "name": "stderr",
     "output_type": "stream",
     "text": [
      "../aten/src/ATen/native/LegacyDefinitions.cpp:19: UserWarning: masked_fill_ received a mask with dtype torch.uint8, this behavior is now deprecated,please use a mask with dtype torch.bool instead.\n",
      "../aten/src/ATen/native/LegacyDefinitions.cpp:19: UserWarning: masked_fill_ received a mask with dtype torch.uint8, this behavior is now deprecated,please use a mask with dtype torch.bool instead.\n"
     ]
    },
    {
     "name": "stdout",
     "output_type": "stream",
     "text": [
      "('The', '2', 'det')\n",
      "('crowd', '5', 'nsubj')\n",
      "('was', '5', 'cop')\n",
      "('as', '5', 'advmod')\n",
      "('large', '0', 'root')\n",
      "('as', '7', 'case')\n",
      "('10,000', '5', 'obl')\n",
      "(',', '11', 'punct')\n",
      "('the', '10', 'det')\n",
      "('sources', '11', 'nsubj')\n",
      "('said', '5', 'parataxis')\n",
      "(',', '18', 'punct')\n",
      "('and', '18', 'cc')\n",
      "('at', '16', 'case')\n",
      "('one', '16', 'nummod')\n",
      "('point', '18', 'obl')\n",
      "('it', '18', 'nsubj')\n",
      "('turned', '11', 'conj')\n",
      "('against', '22', 'case')\n",
      "('a', '22', 'det')\n",
      "('police', '22', 'compound')\n",
      "('headquarters', '18', 'obl')\n",
      "(',', '18', 'punct')\n",
      "('setting', '18', 'advcl')\n",
      "('fire', '24', 'obj')\n",
      "('to', '29', 'case')\n",
      "('a', '29', 'det')\n",
      "('police', '29', 'compound')\n",
      "('shed', '24', 'obl')\n",
      "('.', '5', 'punct')\n",
      "('On', '2', 'case')\n",
      "('May', '7', 'obl')\n",
      "('3', '2', 'nummod')\n",
      "(',', '7', 'punct')\n",
      "('the', '6', 'det')\n",
      "('people', '7', 'nsubj')\n",
      "('demonstrated', '0', 'root')\n",
      "('the', '10', 'det')\n",
      "('raw', '10', 'amod')\n",
      "('power', '7', 'obj')\n",
      "('of', '13', 'case')\n",
      "('their', '13', 'nmod:poss')\n",
      "('discontent', '10', 'nmod')\n",
      "('in', '16', 'case')\n",
      "('a', '16', 'det')\n",
      "('wave', '10', 'nmod')\n",
      "('of', '19', 'case')\n",
      "('violent', '19', 'amod')\n",
      "('protests', '16', 'nmod')\n",
      "('in', '21', 'case')\n",
      "('Warsaw', '19', 'nmod')\n",
      "('.', '7', 'punct')\n"
     ]
    },
    {
     "name": "stderr",
     "output_type": "stream",
     "text": [
      "../aten/src/ATen/native/LegacyDefinitions.cpp:19: UserWarning: masked_fill_ received a mask with dtype torch.uint8, this behavior is now deprecated,please use a mask with dtype torch.bool instead.\n"
     ]
    },
    {
     "name": "stdout",
     "output_type": "stream",
     "text": [
      "('said', '0', 'root')\n",
      "('they', '3', 'nsubj')\n",
      "('feared', '1', 'ccomp')\n",
      "('the', '5', 'det')\n",
      "('violence', '3', 'obj')\n",
      "('last', '7', 'amod')\n",
      "('Sunday', '10', 'obl:tmod')\n",
      "('could', '10', 'aux')\n",
      "('be', '10', 'aux:pass')\n",
      "('used', '3', 'ccomp')\n",
      "('as', '13', 'case')\n",
      "('a', '13', 'det')\n",
      "('pretext', '10', 'obl')\n",
      "('to', '15', 'mark')\n",
      "('cancel', '13', 'acl')\n",
      "('the', '18', 'det')\n",
      "('August', '18', 'compound')\n",
      "('trip', '15', 'obj')\n",
      "('.', '1', 'punct')\n"
     ]
    },
    {
     "name": "stderr",
     "output_type": "stream",
     "text": [
      "../aten/src/ATen/native/LegacyDefinitions.cpp:19: UserWarning: masked_fill_ received a mask with dtype torch.uint8, this behavior is now deprecated,please use a mask with dtype torch.bool instead.\n"
     ]
    },
    {
     "name": "stdout",
     "output_type": "stream",
     "text": [
      "('His', '2', 'nmod:poss')\n",
      "('activities', '14', 'nsubj')\n",
      "('and', '4', 'cc')\n",
      "('those', '2', 'conj')\n",
      "('of', '7', 'case')\n",
      "('his', '7', 'nmod:poss')\n",
      "('followers', '4', 'nmod')\n",
      "('during', '11', 'case')\n",
      "('the', '11', 'det')\n",
      "('1967', '11', 'nummod')\n",
      "('riots', '7', 'nmod')\n",
      "('in', '13', 'case')\n",
      "('Newark', '11', 'nmod')\n",
      "('prompted', '0', 'root')\n",
      "('former', '16', 'amod')\n",
      "('Gov.', '14', 'obj')\n",
      "('Richard', '16', 'flat')\n",
      "('J.', '17', 'flat')\n",
      "('Hughes', '17', 'flat')\n",
      "('to', '21', 'mark')\n",
      "('label', '14', 'xcomp')\n",
      "('them', '21', 'obj')\n",
      "(\"''\", '24', 'punct')\n",
      "('brownshirts', '21', 'obj')\n",
      "('.', '29', 'punct')\n",
      "(\"''\", '29', 'punct')\n",
      "('\\\\', '29', 'punct')\n",
      "('n\\\\', '29', 'compound')\n",
      "('n\\\\n\\\\n', '24', 'appos')\n"
     ]
    },
    {
     "name": "stderr",
     "output_type": "stream",
     "text": [
      "../aten/src/ATen/native/LegacyDefinitions.cpp:19: UserWarning: masked_fill_ received a mask with dtype torch.uint8, this behavior is now deprecated,please use a mask with dtype torch.bool instead.\n"
     ]
    },
    {
     "name": "stdout",
     "output_type": "stream",
     "text": [
      "('17', '0', 'root')\n",
      "(',', '1', 'punct')\n",
      "('of', '6', 'case')\n",
      "('2195', '6', 'nummod')\n",
      "('Ocean', '6', 'compound')\n",
      "('Avenue', '1', 'appos')\n",
      "(',', '8', 'punct')\n",
      "('Brooklyn', '6', 'conj')\n",
      "(',', '10', 'punct')\n",
      "('Samuel', '6', 'conj')\n",
      "('Wilkenfield', '10', 'flat')\n",
      "(',', '10', 'punct')\n",
      "('17', '6', 'conj')\n",
      "(',', '6', 'punct')\n",
      "('of', '18', 'case')\n",
      "('577', '18', 'nummod')\n",
      "('Grand', '18', 'compound')\n",
      "('Street', '6', 'nmod')\n",
      "(',', '20', 'punct')\n",
      "('Manhattan', '18', 'conj')\n",
      "(',', '23', 'punct')\n",
      "('and', '23', 'cc')\n",
      "('Evelyn', '6', 'conj')\n",
      "('Hyman', '23', 'flat')\n",
      "(',', '23', 'punct')\n",
      "('52', '23', 'amod')\n",
      "(',', '23', 'punct')\n",
      "('of', '32', 'case')\n",
      "('419', '32', 'nummod')\n",
      "('West', '32', 'compound')\n",
      "('34th', '32', 'compound')\n",
      "('Street', '23', 'nmod')\n",
      "(',', '34', 'punct')\n",
      "('charging', '23', 'acl')\n",
      "('them', '34', 'obj')\n",
      "('with', '38', 'case')\n",
      "('criminal', '38', 'amod')\n",
      "('mischief', '34', 'obl')\n",
      "('and', '41', 'cc')\n",
      "('disorderly', '38', 'conj')\n",
      "('conduct', '38', 'conj')\n",
      "('.\\\\n\\\\n', '1', 'punct')\n",
      "('Unofficial', '2', 'amod')\n",
      "('estimates', '15', 'nsubj')\n",
      "('of', '6', 'case')\n",
      "('the', '6', 'det')\n",
      "('crowd', '6', 'compound')\n",
      "('size', '2', 'nmod')\n",
      "(',', '6', 'punct')\n",
      "('which', '11', 'obj')\n",
      "('the', '10', 'det')\n",
      "('police', '11', 'nsubj')\n",
      "('refused', '6', 'acl:relcl')\n",
      "('to', '13', 'mark')\n",
      "('estimate', '11', 'xcomp')\n",
      "(',', '15', 'punct')\n",
      "('ranged', '0', 'root')\n",
      "('as', '17', 'advmod')\n",
      "('high', '15', 'xcomp')\n",
      "('as', '19', 'case')\n",
      "('100,000.', '17', 'obl')\n",
      "('\\\\n\\\\n\\\\n\\\\nAt', '22', 'case')\n",
      "('3:20', '22', 'nummod')\n",
      "('P.M.', '15', 'obl')\n",
      "(',', '15', 'punct')\n",
      "('shortly', '15', 'advmod')\n",
      "('after', '28', 'mark')\n",
      "('the', '27', 'det')\n",
      "('rally', '28', 'nsubj')\n",
      "('ended', '15', 'advcl')\n",
      "(',', '37', 'punct')\n",
      "('30', '31', 'nummod')\n",
      "('members', '37', 'nsubj')\n",
      "('of', '36', 'case')\n",
      "('the', '36', 'det')\n",
      "('Jewish', '36', 'compound')\n",
      "('Defense', '36', 'compound')\n",
      "('League', '31', 'nmod')\n",
      "('demonstrated', '28', 'ccomp')\n",
      "('outside', '40', 'case')\n",
      "('the', '40', 'det')\n",
      "('offices', '37', 'obl')\n",
      "('of', '42', 'case')\n",
      "('Aeroflot', '40', 'nmod')\n",
      "(',', '42', 'punct')\n",
      "('the', '46', 'det')\n",
      "('Soviet', '46', 'amod')\n",
      "('airline', '42', 'appos')\n",
      "(',', '46', 'punct')\n",
      "('on', '50', 'case')\n",
      "('Fifth', '50', 'compound')\n",
      "('Avenue', '46', 'nmod')\n",
      "('near', '53', 'case')\n",
      "('45th', '53', 'compound')\n",
      "('Street', '50', 'nmod')\n",
      "(',', '56', 'punct')\n",
      "('and', '56', 'cc')\n",
      "('threw', '37', 'conj')\n",
      "('bottles', '56', 'obj')\n",
      "('filled', '56', 'xcomp')\n",
      "('with', '61', 'case')\n",
      "('red', '61', 'amod')\n",
      "('paint', '58', 'obl')\n",
      "('through', '66', 'case')\n",
      "('the', '64', 'det')\n",
      "('office', '66', 'nmod:poss')\n",
      "(\"'s\", '64', 'case')\n",
      "('window', '58', 'obl')\n",
      "(',', '58', 'punct')\n",
      "('according', '71', 'case')\n",
      "('to', '68', 'fixed')\n",
      "('the', '71', 'det')\n",
      "('police', '58', 'obl')\n",
      "('.\\\\', '73', 'punct')\n",
      "('n\\\\n\\\\n', '71', 'appos')\n"
     ]
    },
    {
     "name": "stderr",
     "output_type": "stream",
     "text": [
      "../aten/src/ATen/native/LegacyDefinitions.cpp:19: UserWarning: masked_fill_ received a mask with dtype torch.uint8, this behavior is now deprecated,please use a mask with dtype torch.bool instead.\n"
     ]
    }
   ],
   "source": [
    "for i in range(len(smaller)):\n",
    "    parse = nlp(smaller.iloc[i,2])\n",
    "    parse.sentences[0].print_dependencies()\n",
    "# Note: Still does not parse every sentence"
   ]
  },
  {
   "cell_type": "code",
   "execution_count": null,
   "metadata": {},
   "outputs": [],
   "source": []
  }
 ],
 "metadata": {
  "kernelspec": {
   "display_name": "Python 3",
   "language": "python",
   "name": "python3"
  },
  "language_info": {
   "codemirror_mode": {
    "name": "ipython",
    "version": 3
   },
   "file_extension": ".py",
   "mimetype": "text/x-python",
   "name": "python",
   "nbconvert_exporter": "python",
   "pygments_lexer": "ipython3",
   "version": "3.7.0"
  }
 },
 "nbformat": 4,
 "nbformat_minor": 2
}
