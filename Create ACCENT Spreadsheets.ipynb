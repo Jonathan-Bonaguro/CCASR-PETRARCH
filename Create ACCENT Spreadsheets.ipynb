{
 "cells": [
  {
   "cell_type": "code",
   "execution_count": 52,
   "metadata": {},
   "outputs": [],
   "source": [
    "import pandas as pd\n",
    "import numpy as np"
   ]
  },
  {
   "cell_type": "code",
   "execution_count": 53,
   "metadata": {},
   "outputs": [],
   "source": [
    "# read in data\n",
    "accent4 = pd.read_csv(\"Data/accent4_only.csv\", usecols=[1, 2, 3])\n",
    "accent5 = pd.read_csv(\"Data/accent5_only.csv\", usecols=[1, 2, 3])\n",
    "accent6 = pd.read_csv(\"Data/accent6_only.csv\", usecols=[1, 2, 3])"
   ]
  },
  {
   "cell_type": "code",
   "execution_count": 54,
   "metadata": {},
   "outputs": [],
   "source": [
    "# create new column\n",
    "accent4['code'] = accent4['code'].astype('int32')\n",
    "accent4['aid'] = accent4['aid'].astype('int32')\n",
    "\n",
    "accent5['code'] = accent5['code'].astype('int32')\n",
    "accent5['aid'] = accent5['aid'].astype('int32')\n",
    "\n",
    "accent6['code'] = accent6['code'].astype('int32')\n",
    "accent6['aid'] = accent6['aid'].astype('int32')"
   ]
  },
  {
   "cell_type": "code",
   "execution_count": 73,
   "metadata": {},
   "outputs": [],
   "source": [
    "accent4['correct']=np.where(((accent4['code']==141)&(accent4['aid'].isin([23991741])))|((accent4['code']==143)&(accent4['aid'].isin([22457386, 23237263, 23996850])))|((accent4['code']==145)&(accent4['aid'].isin([22512142, 22792287, 23088686])))|((accent4['code']==1831)&(accent4['aid'].isin([23515036])))|((accent4['code']==186)&(accent4['aid'].isin([22502080]))),0, 1)"
   ]
  },
  {
   "cell_type": "code",
   "execution_count": 76,
   "metadata": {},
   "outputs": [],
   "source": [
    "accent5['correct']=np.where(((accent5['code']==1711)&(accent5['aid'].isin([22373265, 22404413, 22488684, 22750359, 22770393, 23012622, 23498720, 23559356, 23611678, 23728673, 24054607, 24076281])))|((accent5['code']==1712)&(accent5['aid'].isin([22527537, 22563455, 2366055, 23620424, 23638631, 23965877])))|((accent5['code']==182)&(accent5['aid'].isin([22356460, 22367556, 22791841, 22797454, 23485049,  23516010, 23570788, 23598870, 23667656, 23763197, 23802289])))|((accent5['code']==1821)&(accent5['aid'].isin([23827734, 24029352])))|((accent5['code']==1822)&(accent5['aid'].isin([23304662, 23635602])))|((accent5['code']==1823)&(accent5['aid'].isin([23091309])))|((accent5['code']==185)&(accent5['aid'].isin([23718575])))|((accent5['code']==186)&(accent5['aid'].isin([22744295, 23049595, 23965701]))),0,1)"
   ]
  },
  {
   "cell_type": "code",
   "execution_count": 84,
   "metadata": {},
   "outputs": [],
   "source": [
    "accent6['correct']=np.where(((accent6['code']==1711)&(accent6['aid'].isin([22395120, 22488684, 22523294, 22673569, 23141748, 23486126, 24077519])))|((accent6['code']==1712)&(accent6['aid'].isin([22499993, 22585780, 23579147, 23618019, 23620424, 23919706, 23942340])))|((accent6['code']==182)&(accent6['aid'].isin([22477534, 22485570, 22809534, 22812571, 22820739, 22931137, 23500902, 23542728, 23618188, 23651567, 23858834, 23930091, 24005155, 24017364])))|((accent6['code']==1822)&(accent6['aid'].isin([22367891])))|((accent6['code']==1823)&(accent6['aid'].isin([23129886, 23171114])))|((accent6['code']==186)&(accent6['aid'].isin([22345694, 22387478, 22661719, 23865062, 23969061]))),0,1)"
   ]
  },
  {
   "cell_type": "code",
   "execution_count": 85,
   "metadata": {},
   "outputs": [],
   "source": [
    "accent4.to_csv(\"Data/accent4correct.csv\")\n",
    "accent5.to_csv(\"Data/accent5correct.csv\")\n",
    "accent6.to_csv(\"Data/accent6correct.csv\")"
   ]
  },
  {
   "cell_type": "code",
   "execution_count": null,
   "metadata": {},
   "outputs": [],
   "source": []
  }
 ],
 "metadata": {
  "kernelspec": {
   "display_name": "Python 3",
   "language": "python",
   "name": "python3"
  },
  "language_info": {
   "codemirror_mode": {
    "name": "ipython",
    "version": 3
   },
   "file_extension": ".py",
   "mimetype": "text/x-python",
   "name": "python",
   "nbconvert_exporter": "python",
   "pygments_lexer": "ipython3",
   "version": "3.7.6"
  }
 },
 "nbformat": 4,
 "nbformat_minor": 4
}
