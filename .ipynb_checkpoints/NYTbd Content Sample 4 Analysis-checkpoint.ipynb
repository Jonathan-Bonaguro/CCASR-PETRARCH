{
 "cells": [
  {
   "cell_type": "markdown",
   "metadata": {},
   "source": [
    "# Analyzing NYTbd Sample 4\n",
    "<br>\n",
    "This notebook is looking at the NYTbd Sample 4 content analyzed by ACCENT and PETRARCH2 to identify current limitations with PETRARCH2 and to try and devise solutions. "
   ]
  },
  {
   "cell_type": "code",
   "execution_count": 3,
   "metadata": {},
   "outputs": [],
   "source": [
    "# Setup Environment\n",
    "from nltk.parse.corenlp import CoreNLPServer\n",
    "from nltk.parse.corenlp import CoreNLPDependencyParser\n",
    "from nltk.parse import CoreNLPParser\n",
    "\n",
    "import pandas as pd\n",
    "\n",
    "import pprint\n",
    "import nltk\n",
    "\n",
    "from nltk.tree import *\n",
    "from IPython.display import display\n",
    "\n",
    "from IPython.core.interactiveshell import InteractiveShell\n",
    "InteractiveShell.ast_node_interactivity = \"all\""
   ]
  },
  {
   "cell_type": "markdown",
   "metadata": {},
   "source": [
    "#### Link to Java Server for Standford CoreNLP\n",
    "<br>\n",
    "java -mx4g -cp \"*\" edu.stanford.nlp.pipeline.StanfordCoreNLPServer -annotators \"tokenize,ssplit,pos,lemma,parse,sentiment\" -port 9000 -timeout 100000"
   ]
  },
  {
   "cell_type": "code",
   "execution_count": 4,
   "metadata": {},
   "outputs": [],
   "source": [
    "# Connect to Server\n",
    "parser = CoreNLPParser('http://localhost:9000')\n",
    "depr = CoreNLPDependencyParser('http://localhost:9000')"
   ]
  },
  {
   "cell_type": "markdown",
   "metadata": {},
   "source": [
    "#### Write Some Functions for Parsing Text"
   ]
  },
  {
   "cell_type": "code",
   "execution_count": 5,
   "metadata": {},
   "outputs": [],
   "source": [
    "# Core Parser- save as df['parsed']\n",
    "def core_parser(df, col):\n",
    "    parse = []\n",
    "    i = \"\"\n",
    "    for i in range(len(df)):\n",
    "        parse.append(i)\n",
    "        parse[i] = next(parser.raw_parse(df[col].iloc[i]))\n",
    "    return parse\n",
    "\n",
    "# Dependency Parser- save as df['dep']\n",
    "def dep_parser(df, col):\n",
    "    dep = []\n",
    "    i = \"\"\n",
    "    for i in range(len(df)):\n",
    "        dep.append(i)\n",
    "        dep[i] = next(depr.raw_parse(df[col].iloc[i]))\n",
    "    return dep\n",
    "\n",
    "# For easy display of both parse trees, text, and code\n",
    "def easy_read(corp, index_num):\n",
    "    display(corp['parsed'].iloc[index_num])\n",
    "    display(corp['dep'].iloc[index_num])\n",
    "    display(\"Text = \" + corp.iloc[index_num].loc['text'])\n",
    "    display(\"Code = \" + str(corp.iloc[index_num].loc['code']))\n",
    "    \n",
    "# function to display only constituency parse with POS tags with text and code\n",
    "def parsed_output(corp, index_num):\n",
    "    display(corp['parsed'].iloc[index_num])\n",
    "    display(\"Text = \" + corp.iloc[index_num].loc['text'])\n",
    "    display(\"Code = \" + str(corp.iloc[index_num].loc['code']))\n",
    "    display(\"AID = \" + str(corp.iloc[index_num].loc['aid']))\n",
    "    \n",
    "# function to display only dependency parse with text and code\n",
    "def dependency_output(corp, index_num):\n",
    "    display(corp['dep'].iloc[index_num])\n",
    "    display(\"Text = \" + corp.iloc[index_num].loc['text'])\n",
    "    display(\"Code = \" + str(corp.iloc[index_num].loc['code']))\n",
    "    \n",
    "# function to display constituency parse of a single sentence\n",
    "def one_sentence_parser(text):\n",
    "    output = next(parser.raw_parse(text))\n",
    "    return output"
   ]
  },
  {
   "cell_type": "markdown",
   "metadata": {},
   "source": [
    "## Read in NYTbd Sample 3 Data- ACCENT and PETRARCH"
   ]
  },
  {
   "cell_type": "code",
   "execution_count": 6,
   "metadata": {},
   "outputs": [],
   "source": [
    "accent4 = pd.read_stata(\"/Volumes/PartTime/Jonathan Bonaguro - Spring 2020/NYTbd sample 4/Accent_sample4_events_text.dta\")\n",
    "petrarch4_full = pd.read_stata(\"/Volumes/PartTime/Jonathan Bonaguro - Spring 2020/NYTbd sample 4/Petrarch_NYTbd_sample4_run1_events_text.dta\")"
   ]
  },
  {
   "cell_type": "code",
   "execution_count": 7,
   "metadata": {},
   "outputs": [
    {
     "name": "stderr",
     "output_type": "stream",
     "text": [
      "/anaconda3/lib/python3.7/site-packages/ipykernel_launcher.py:8: SettingWithCopyWarning: \n",
      "A value is trying to be set on a copy of a slice from a DataFrame.\n",
      "Try using .loc[row_indexer,col_indexer] = value instead\n",
      "\n",
      "See the caveats in the documentation: http://pandas.pydata.org/pandas-docs/stable/indexing.html#indexing-view-versus-copy\n",
      "  \n",
      "/anaconda3/lib/python3.7/site-packages/ipykernel_launcher.py:9: SettingWithCopyWarning: \n",
      "A value is trying to be set on a copy of a slice from a DataFrame.\n",
      "Try using .loc[row_indexer,col_indexer] = value instead\n",
      "\n",
      "See the caveats in the documentation: http://pandas.pydata.org/pandas-docs/stable/indexing.html#indexing-view-versus-copy\n",
      "  if __name__ == '__main__':\n"
     ]
    }
   ],
   "source": [
    "# Identify codes of events that ACCENT identified\n",
    "relevant_codes = accent4.code.unique()\n",
    "\n",
    "# Trim the PETRARCH output to only event codes that ACCENT identified\n",
    "petrarch4 = petrarch4_full[petrarch4_full['code'].isin(relevant_codes)]\n",
    "\n",
    "# Convert Data Types to int64\n",
    "petrarch4['code'] = petrarch4['code'].astype('int32')\n",
    "petrarch4['aid'] = petrarch4['aid'].astype('int32')\n",
    "\n",
    "accent4['code'] = accent4['code'].astype('int32')\n",
    "accent4['aid'] = accent4['aid'].astype('int32')"
   ]
  },
  {
   "cell_type": "code",
   "execution_count": 8,
   "metadata": {},
   "outputs": [
    {
     "name": "stdout",
     "output_type": "stream",
     "text": [
      "CPU times: user 3 µs, sys: 1 µs, total: 4 µs\n",
      "Wall time: 6.91 µs\n"
     ]
    },
    {
     "name": "stderr",
     "output_type": "stream",
     "text": [
      "/anaconda3/lib/python3.7/site-packages/ipykernel_launcher.py:6: SettingWithCopyWarning: \n",
      "A value is trying to be set on a copy of a slice from a DataFrame.\n",
      "Try using .loc[row_indexer,col_indexer] = value instead\n",
      "\n",
      "See the caveats in the documentation: http://pandas.pydata.org/pandas-docs/stable/indexing.html#indexing-view-versus-copy\n",
      "  \n",
      "/anaconda3/lib/python3.7/site-packages/ipykernel_launcher.py:7: SettingWithCopyWarning: \n",
      "A value is trying to be set on a copy of a slice from a DataFrame.\n",
      "Try using .loc[row_indexer,col_indexer] = value instead\n",
      "\n",
      "See the caveats in the documentation: http://pandas.pydata.org/pandas-docs/stable/indexing.html#indexing-view-versus-copy\n",
      "  import sys\n"
     ]
    }
   ],
   "source": [
    "# Parse both PETRARCH and ACCENT with Stanford CoreNLP\n",
    "%time \n",
    "accent4['parsed'] = core_parser(accent4, 'text')\n",
    "accent4['dep'] = dep_parser(accent4, 'text')\n",
    "\n",
    "petrarch4['parsed'] = core_parser(petrarch4, 'text')\n",
    "petrarch4['dep'] = dep_parser(petrarch4, 'text')"
   ]
  },
  {
   "cell_type": "code",
   "execution_count": 9,
   "metadata": {},
   "outputs": [],
   "source": [
    "keys = list(['aid', 'code'])\n",
    "accent4_index = accent4.set_index(keys).index\n",
    "petrarch4_index = petrarch4.set_index(keys).index\n",
    "\n",
    "# Produce df's of mutually exclusive events \n",
    "accent4_only = accent4[~accent4_index.isin(petrarch4_index)]\n",
    "petrarch4_only = petrarch4[~petrarch4_index.isin(accent4_index)]\n",
    "\n",
    "# Produce df's of same article, same coding\n",
    "accent4_same_code = accent4[accent4_index.isin(petrarch4_index)]\n",
    "petrarch4_same_code = petrarch4[petrarch4_index.isin(accent4_index)]\n",
    "\n",
    "# sort values on AID and reset index \n",
    "accent4_only = accent4_only.sort_values('aid').reset_index(drop = True)\n",
    "petrarch4_only = petrarch4_only.sort_values('aid').reset_index(drop = True)\n",
    "\n",
    "accent4_same_code = accent4_same_code.sort_values('aid').reset_index(drop = True)\n",
    "petrarch4_same_code = petrarch4_same_code.sort_values('aid').reset_index(drop = True)"
   ]
  },
  {
   "cell_type": "markdown",
   "metadata": {},
   "source": [
    "## Look for errors in ACCENT and remove from data\n",
    "<br>\n",
    "Event codes: 140, 141, 143, 145, 1723, 181, 183, 1831, 186"
   ]
  },
  {
   "cell_type": "code",
   "execution_count": 10,
   "metadata": {
    "scrolled": false
   },
   "outputs": [],
   "source": [
    "# basic loop to print tree, text, aid, and number in loop\n",
    "\n",
    "# for i in range(len(petrarch4_only[petrarch4_only.code == 186])):\n",
    "#    parsed_output(petrarch4_only[petrarch4_only.code == 186], i)\n",
    "#    display(i)"
   ]
  },
  {
   "cell_type": "code",
   "execution_count": 11,
   "metadata": {},
   "outputs": [],
   "source": [
    "## Create subsets of data discarding identified errors in ACCENT coding\n",
    "#### Refer to 'ACCENT_RUN4_ERRORS.docx' for list of errors and explanation\n",
    "# event code 141\n",
    "accent4_141 = accent4_only[accent4_only.code == 141].reset_index(drop = True).drop([19]).reset_index(drop = True)\n",
    "\n",
    "# event code 143\n",
    "accent4_144 = accent4_only[accent4_only.code == 143].reset_index(drop = True).drop([5, 13, 21]).reset_index(drop = True)\n",
    "\n",
    "# event code 145\n",
    "accent4_145 = accent4_only[accent4_only.code == 145].reset_index(drop = True).drop([2, 12]).reset_index(drop = True)\n",
    "\n",
    "# event code 1724\n",
    "accent4_1724 = accent4_only[accent4_only.code == 1723].reset_index(drop = True).reset_index(drop = True)\n",
    "\n",
    "# event code 181\n",
    "accent4_181 = accent4_only[accent4_only.code == 181].reset_index(drop = True).reset_index(drop = True)\n",
    "\n",
    "# event code 1841\n",
    "accent4_1841 = accent4_only[accent4_only.code == 1831].reset_index(drop = True).drop([1]).reset_index(drop = True)\n",
    "\n",
    "# event code 186\n",
    "accent4_186 = accent4_only[accent4_only.code == 186].reset_index(drop = True).drop([2]).reset_index(drop = True)"
   ]
  },
  {
   "cell_type": "markdown",
   "metadata": {},
   "source": [
    "## Print ACCENT Output to Identify Dictionary Improvements"
   ]
  },
  {
   "cell_type": "code",
   "execution_count": 24,
   "metadata": {
    "scrolled": true
   },
   "outputs": [
    {
     "ename": "NameError",
     "evalue": "name 'accent4_143' is not defined",
     "output_type": "error",
     "traceback": [
      "\u001b[0;31m---------------------------------------------------------------------------\u001b[0m",
      "\u001b[0;31mNameError\u001b[0m                                 Traceback (most recent call last)",
      "\u001b[0;32m<ipython-input-24-06878d2e126b>\u001b[0m in \u001b[0;36m<module>\u001b[0;34m()\u001b[0m\n\u001b[0;32m----> 1\u001b[0;31m \u001b[0;32mfor\u001b[0m \u001b[0mi\u001b[0m \u001b[0;32min\u001b[0m \u001b[0mrange\u001b[0m\u001b[0;34m(\u001b[0m\u001b[0mlen\u001b[0m\u001b[0;34m(\u001b[0m\u001b[0maccent4_143\u001b[0m\u001b[0;34m)\u001b[0m\u001b[0;34m)\u001b[0m\u001b[0;34m:\u001b[0m\u001b[0;34m\u001b[0m\u001b[0m\n\u001b[0m\u001b[1;32m      2\u001b[0m     \u001b[0mparsed_output\u001b[0m\u001b[0;34m(\u001b[0m\u001b[0maccent4_143\u001b[0m\u001b[0;34m,\u001b[0m \u001b[0mi\u001b[0m\u001b[0;34m)\u001b[0m\u001b[0;34m\u001b[0m\u001b[0m\n\u001b[1;32m      3\u001b[0m     \u001b[0mdisplay\u001b[0m\u001b[0;34m(\u001b[0m\u001b[0mi\u001b[0m\u001b[0;34m)\u001b[0m\u001b[0;34m\u001b[0m\u001b[0m\n",
      "\u001b[0;31mNameError\u001b[0m: name 'accent4_143' is not defined"
     ]
    }
   ],
   "source": [
    "for i in range(len(accent4_143)):\n",
    "    parsed_output(accent4_143, i)\n",
    "    display(i)"
   ]
  },
  {
   "cell_type": "code",
   "execution_count": 23,
   "metadata": {},
   "outputs": [
    {
     "data": {
      "image/png": "[encoded data removed]",
      "text/plain": [
       "Tree('ROOT', [Tree('S', [Tree('S', [Tree('``', ['``']), Tree('NP', [Tree('NNP', ['Alamo'])]), Tree(\"''\", [\"''\"]), Tree('VP', [Tree('VBD', ['was']), Tree('VP', [Tree('VBN', ['intended']), Tree('PP', [Tree('IN', ['for']), Tree('NP', [Tree('DT', ['a']), Tree('JJ', ['temporary']), Tree('JJ', ['six-month']), Tree('NN', ['stay'])])])])])]), Tree(',', [',']), Tree('CC', ['but']), Tree('S', [Tree('SBAR', [Tree('WHADVP', [Tree('WRB', ['when'])]), Tree('S', [Tree('NP', [Tree('NP', [Tree('DT', ['the']), Tree('NN', ['time'])]), Tree('PP', [Tree('IN', ['for']), Tree('NP', [Tree('PRP$', ['its']), Tree('NN', ['removal'])])])]), Tree('VP', [Tree('VBD', ['approached'])])])]), Tree(',', [',']), Tree('NP', [Tree('NP', [Tree('NNP', ['Cooper']), Tree('NNP', ['Union']), Tree('NNS', ['students'])]), Tree('SBAR', [Tree('WHNP', [Tree('WP', ['who'])]), Tree('S', [Tree('VP', [Tree('VBD', ['had']), Tree('VP', [Tree('VBN', ['taken']), Tree('NP', [Tree('DT', ['a']), Tree('NN', ['shine'])]), Tree('PP', [Tree('TO', ['to']), Tree('NP', [Tree('PRP', ['it'])])])])])])])]), Tree('VP', [Tree('VBD', ['rose']), Tree('PRT', [Tree('RP', ['up'])]), Tree('PP', [Tree('IN', ['in']), Tree('NP', [Tree('NN', ['protest'])])])])]), Tree('.', ['.'])])])"
      ]
     },
     "execution_count": 23,
     "metadata": {},
     "output_type": "execute_result"
    }
   ],
   "source": [
    "one_sentence_parser(\"''Alamo'' was intended for a temporary six-month stay, but when the time for its removal approached, Cooper Union students who had taken a shine to it rose up in protest.\")"
   ]
  },
  {
   "cell_type": "code",
   "execution_count": null,
   "metadata": {},
   "outputs": [],
   "source": []
  }
 ],
 "metadata": {
  "kernelspec": {
   "display_name": "Python 3",
   "language": "python",
   "name": "python3"
  },
  "language_info": {
   "codemirror_mode": {
    "name": "ipython",
    "version": 3
   },
   "file_extension": ".py",
   "mimetype": "text/x-python",
   "name": "python",
   "nbconvert_exporter": "python",
   "pygments_lexer": "ipython3",
   "version": "3.7.0"
  }
 },
 "nbformat": 4,
 "nbformat_minor": 2
}
