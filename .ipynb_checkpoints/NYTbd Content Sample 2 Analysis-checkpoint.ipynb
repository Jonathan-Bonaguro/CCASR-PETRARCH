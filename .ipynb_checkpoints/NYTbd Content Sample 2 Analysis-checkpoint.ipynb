{
 "cells": [
  {
   "cell_type": "markdown",
   "metadata": {},
   "source": [
    "# Analyzing NYTbd Sample 2\n",
    "<br>\n",
    "This notebook is looking at the NYTbd Sample 2 content analyzed by ACCENT and PETRARCH2 to identify current limitations with PETRARCH2 and to try and devise solutions. "
   ]
  },
  {
   "cell_type": "code",
   "execution_count": 9,
   "metadata": {},
   "outputs": [],
   "source": [
    "# Setup Environment\n",
    "from nltk.parse.corenlp import CoreNLPServer\n",
    "from nltk.parse.corenlp import CoreNLPDependencyParser\n",
    "from nltk.parse import CoreNLPParser\n",
    "\n",
    "import pandas as pd\n",
    "\n",
    "import pprint\n",
    "import nltk\n",
    "\n",
    "from nltk.tree import *\n",
    "from IPython.display import display\n",
    "\n",
    "import io, os, sys, types\n",
    "\n",
    "from IPython import get_ipython\n",
    "from nbformat import read\n",
    "from IPython.core.interactiveshell import InteractiveShell"
   ]
  },
  {
   "cell_type": "markdown",
   "metadata": {},
   "source": [
    "#### Link to Java Server for Standford CoreNLP\n",
    "<br>\n",
    "java -mx4g -cp \"*\" edu.stanford.nlp.pipeline.StanfordCoreNLPServer -annotators \"tokenize,ssplit,pos,lemma,parse,sentiment\" -port 9000 -timeout 30000"
   ]
  },
  {
   "cell_type": "code",
   "execution_count": 63,
   "metadata": {},
   "outputs": [],
   "source": [
    "# Connect to Server\n",
    "parser = CoreNLPParser('http://localhost:9000')\n",
    "depr = CoreNLPDependencyParser('http://localhost:9000')"
   ]
  },
  {
   "cell_type": "markdown",
   "metadata": {},
   "source": [
    "#### Write Some Functions for Parsing Text"
   ]
  },
  {
   "cell_type": "code",
   "execution_count": 11,
   "metadata": {},
   "outputs": [],
   "source": [
    "# Core Parser- save as df['parsed']\n",
    "def core_parser(df, col):\n",
    "    parse = []\n",
    "    i = \"\"\n",
    "    for i in range(len(df)):\n",
    "        parse.append(i)\n",
    "        parse[i] = next(parser.raw_parse(df[col].iloc[i]))\n",
    "    return parse\n",
    "\n",
    "# Dependency Parser- save as df['dep']\n",
    "def dep_parser(df, col):\n",
    "    dep = []\n",
    "    i = \"\"\n",
    "    for i in range(len(df)):\n",
    "        dep.append(i)\n",
    "        dep[i] = next(depr.raw_parse(df[col].iloc[i]))\n",
    "    return dep\n",
    "\n",
    "# For easy display of both parse trees, text, and code\n",
    "def easy_read(corp, index_num):\n",
    "    display(corp['parsed'].iloc[index_num])\n",
    "    display(corp['dep'].iloc[index_num])\n",
    "    display(\"Text = \" + corp.iloc[index_num].loc['text'])\n",
    "    display(\"Code = \" + str(corp.iloc[index_num].loc['code']))"
   ]
  },
  {
   "cell_type": "markdown",
   "metadata": {},
   "source": [
    "## Import Data"
   ]
  },
  {
   "cell_type": "code",
   "execution_count": 44,
   "metadata": {},
   "outputs": [],
   "source": [
    "petrarch2 = pd.read_csv(\"/Volumes/Cline/projects/PartTime/Jonathan Bonaguro - Spring 2020/NYTbd sample 2 14 18/combined_output_2-24_11-13-11.txt\", sep='\\t')\n",
    "accent2 = pd.read_csv(\"/Volumes/Cline/projects/PartTime/Jonathan Bonaguro - Spring 2020/NYTbd sample 2 14 18/ACCENT output NYTbd 14 18 sample 2.csv\")\n",
    "petrarch2.drop('Unnamed: 0', axis=1, inplace=True)"
   ]
  },
  {
   "cell_type": "markdown",
   "metadata": {},
   "source": [
    "## Let's Start with Root Code 18"
   ]
  },
  {
   "cell_type": "code",
   "execution_count": 54,
   "metadata": {},
   "outputs": [],
   "source": [
    "petrarch2_root18 = petrarch2[petrarch2.root_code == 18]\n",
    "accent2_root18 = accent2[accent2.root_code == 18]"
   ]
  },
  {
   "cell_type": "code",
   "execution_count": 64,
   "metadata": {},
   "outputs": [
    {
     "name": "stderr",
     "output_type": "stream",
     "text": [
      "/anaconda3/lib/python3.7/site-packages/ipykernel_launcher.py:1: SettingWithCopyWarning: \n",
      "A value is trying to be set on a copy of a slice from a DataFrame.\n",
      "Try using .loc[row_indexer,col_indexer] = value instead\n",
      "\n",
      "See the caveats in the documentation: http://pandas.pydata.org/pandas-docs/stable/indexing.html#indexing-view-versus-copy\n",
      "  \"\"\"Entry point for launching an IPython kernel.\n"
     ]
    },
    {
     "name": "stdout",
     "output_type": "stream",
     "text": [
      "CPU times: user 193 ms, sys: 316 ms, total: 509 ms\n",
      "Wall time: 19.8 s\n"
     ]
    },
    {
     "name": "stderr",
     "output_type": "stream",
     "text": [
      "/anaconda3/lib/python3.7/site-packages/ipykernel_launcher.py:2: SettingWithCopyWarning: \n",
      "A value is trying to be set on a copy of a slice from a DataFrame.\n",
      "Try using .loc[row_indexer,col_indexer] = value instead\n",
      "\n",
      "See the caveats in the documentation: http://pandas.pydata.org/pandas-docs/stable/indexing.html#indexing-view-versus-copy\n",
      "  \n"
     ]
    }
   ],
   "source": [
    "%time petrarch2_root18['parsed'] = core_parser(petrarch2_root18, 'text')\n",
    "petrarch2_root18['dep'] = dep_parser(petrarch2_root18, 'text')"
   ]
  },
  {
   "cell_type": "code",
   "execution_count": 66,
   "metadata": {},
   "outputs": [
    {
     "name": "stderr",
     "output_type": "stream",
     "text": [
      "/anaconda3/lib/python3.7/site-packages/ipykernel_launcher.py:1: SettingWithCopyWarning: \n",
      "A value is trying to be set on a copy of a slice from a DataFrame.\n",
      "Try using .loc[row_indexer,col_indexer] = value instead\n",
      "\n",
      "See the caveats in the documentation: http://pandas.pydata.org/pandas-docs/stable/indexing.html#indexing-view-versus-copy\n",
      "  \"\"\"Entry point for launching an IPython kernel.\n"
     ]
    },
    {
     "name": "stdout",
     "output_type": "stream",
     "text": [
      "CPU times: user 372 ms, sys: 246 ms, total: 618 ms\n",
      "Wall time: 2min 26s\n"
     ]
    },
    {
     "name": "stderr",
     "output_type": "stream",
     "text": [
      "/anaconda3/lib/python3.7/site-packages/ipykernel_launcher.py:2: SettingWithCopyWarning: \n",
      "A value is trying to be set on a copy of a slice from a DataFrame.\n",
      "Try using .loc[row_indexer,col_indexer] = value instead\n",
      "\n",
      "See the caveats in the documentation: http://pandas.pydata.org/pandas-docs/stable/indexing.html#indexing-view-versus-copy\n",
      "  \n"
     ]
    }
   ],
   "source": [
    "%time accent2_root18['parsed'] = core_parser(accent2_root18, 'text')\n",
    "accent2_root18['dep'] = dep_parser(accent2_root18, 'text')"
   ]
  },
  {
   "cell_type": "markdown",
   "metadata": {},
   "source": [
    "### Articles where PETRARCH and ACCENT ***did not*** find the same event"
   ]
  },
  {
   "cell_type": "code",
   "execution_count": 77,
   "metadata": {},
   "outputs": [],
   "source": [
    "# Index on 'aid' and 'code' \n",
    "keys = list(['aid', 'code'])\n",
    "accent2_root18_index = accent2_root18.set_index(keys).index\n",
    "petrarch2_root18_index = petrarch2_root18.set_index(keys).index\n",
    "\n",
    "# Produce df's of mutually exclusive events \n",
    "accent2_root18_only = accent2_root18[~accent2_root18_index.isin(petrarch2_root18_index)]\n",
    "petrarch2_root18_only = petrarch2_root18[~petrarch2_root18_index.isin(accent2_root18_index)]"
   ]
  },
  {
   "cell_type": "markdown",
   "metadata": {},
   "source": [
    "### Articles where PETRARCH and ACCENT found ***different*** events"
   ]
  },
  {
   "cell_type": "code",
   "execution_count": 83,
   "metadata": {},
   "outputs": [],
   "source": [
    "## Index only on AID\n",
    "keys = list(['aid'])\n",
    "accent2_root18_index1 = accent2_root18.set_index(keys).index\n",
    "petrarch2_root18_index1 = petrarch2_root18.set_index(keys).index\n",
    "\n",
    "## df of same articles coded by each event code\n",
    "accent2_root18_sameAID = accent2_root18[accent2_root18_index1.isin(petrarch2_root18_index1)]\n",
    "petrarch2_root18_sameAID = petrarch2_root18[petrarch2_root18_index1.isin(accent2_root18_index1)]\n",
    "\n",
    "## index dfs of same articles on AID and event code\n",
    "accent2_root18_sameAID_index = accent2_root18_sameAID.set_index(keys).index\n",
    "petrarch2_root18_sameAID_index = petrarch2_root18_sameAID.set_index(keys).index\n",
    "\n",
    "## create df's of different codings in same event\n",
    "accent2_root18_diffCODE = accent2_root18_sameAID[accent2_root18_sameAID_index.isin(petrarch2_root18_sameAID_index)]\n",
    "petrarch2_root18_diffCODE = petrarch2_root18_sameAID[petrarch2_root18_sameAID_index.isin(accent2_root18_sameAID_index)]"
   ]
  },
  {
   "cell_type": "code",
   "execution_count": 94,
   "metadata": {},
   "outputs": [],
   "source": [
    "petrarch2_root18_diffCODE = petrarch2_root18_diffCODE.sort_values('aid').reset_index(drop = True)"
   ]
  },
  {
   "cell_type": "code",
   "execution_count": 95,
   "metadata": {
    "scrolled": false
   },
   "outputs": [],
   "source": [
    "accent2_root18_diffCODE = accent2_root18_diffCODE.sort_values('aid').reset_index(drop = True)"
   ]
  },
  {
   "cell_type": "code",
   "execution_count": 91,
   "metadata": {},
   "outputs": [],
   "source": [
    "def quick_aid_check(corp1, corp2, index1, index2):\n",
    "    print(corp1['aid'].iloc[index1])\n",
    "    print(corp2['aid'].iloc[index2])"
   ]
  },
  {
   "cell_type": "code",
   "execution_count": 96,
   "metadata": {},
   "outputs": [
    {
     "name": "stdout",
     "output_type": "stream",
     "text": [
      "22342995\n",
      "22342995\n"
     ]
    }
   ],
   "source": [
    "quick_aid_check(petrarch2_root18_diffCODE, accent2_root18_diffCODE, 0, 0)"
   ]
  },
  {
   "cell_type": "code",
   "execution_count": 97,
   "metadata": {},
   "outputs": [
    {
     "data": {
      "image/png": "[encoded data removed]",
      "text/plain": [
       "Tree('ROOT', [Tree('S', [Tree('NP', [Tree('PRP', ['It'])]), Tree('VP', [Tree('VBZ', ['is']), Tree('ADVP', [Tree('NP', [Tree('DT', ['every']), Tree('NN', ['bit'])]), Tree('IN', ['as'])]), Tree('ADJP', [Tree('JJ', ['irrational'])]), Tree('SBAR', [Tree('IN', ['that']), Tree('S', [Tree('NP', [Tree('PRP', ['we'])]), Tree('VP', [Tree('VBD', ['beat']), Tree('PRT', [Tree('RP', ['up'])]), Tree('PP', [Tree('IN', ['on']), Tree('NP', [Tree('PRP', ['them'])])]), Tree('SBAR', [Tree('IN', ['as']), Tree('S', [Tree('NP', [Tree('PRP', ['it'])]), Tree('VP', [Tree('VBZ', ['is']), Tree('SBAR', [Tree('IN', ['that']), Tree('S', [Tree('NP', [Tree('NP', [Tree('DT', ['a']), Tree('NN', ['group'])]), Tree('PP', [Tree('IN', ['of']), Tree('NP', [Tree('NNPS', ['Iranians'])])])]), Tree('VP', [Tree('VBP', ['hold']), Tree('NP', [Tree('CD', ['fifty-three']), Tree('NNP', ['U.S.']), Tree('NNS', ['hostages'])])])])])])])])])])])]), Tree('.', ['.'])])])"
      ]
     },
     "metadata": {},
     "output_type": "display_data"
    },
    {
     "data": {
      "image/svg+xml": [
       "<?xml version=\"1.0\" encoding=\"UTF-8\" standalone=\"no\"?>\n",
       "<!DOCTYPE svg PUBLIC \"-//W3C//DTD SVG 1.1//EN\"\n",
       " \"http://www.w3.org/Graphics/SVG/1.1/DTD/svg11.dtd\">\n",
       "<!-- Generated by graphviz version 2.40.1 (20161225.0304)\n",
       " -->\n",
       "<!-- Title: G Pages: 1 -->\n",
       "<svg width=\"876pt\" height=\"740pt\"\n",
       " viewBox=\"0.00 0.00 876.00 740.00\" xmlns=\"http://www.w3.org/2000/svg\" xmlns:xlink=\"http://www.w3.org/1999/xlink\">\n",
       "<g id=\"graph0\" class=\"graph\" transform=\"scale(1 1) rotate(0) translate(4 736)\">\n",
       "<title>G</title>\n",
       "<polygon fill=\"#ffffff\" stroke=\"transparent\" points=\"-4,4 -4,-736 872,-736 872,4 -4,4\"/>\n",
       "<!-- 0 -->\n",
       "<g id=\"node1\" class=\"node\">\n",
       "<title>0</title>\n",
       "<text text-anchor=\"middle\" x=\"178\" y=\"-710.3\" font-family=\"Times,serif\" font-size=\"14.00\" fill=\"#000000\">0 (None)</text>\n",
       "</g>\n",
       "<!-- 4 -->\n",
       "<g id=\"node2\" class=\"node\">\n",
       "<title>4</title>\n",
       "<text text-anchor=\"middle\" x=\"178\" y=\"-623.3\" font-family=\"Times,serif\" font-size=\"14.00\" fill=\"#000000\">4 (bit)</text>\n",
       "</g>\n",
       "<!-- 0&#45;&gt;4 -->\n",
       "<g id=\"edge1\" class=\"edge\">\n",
       "<title>0&#45;&gt;4</title>\n",
       "<path fill=\"none\" stroke=\"#000000\" d=\"M178,-695.9735C178,-684.1918 178,-668.5607 178,-655.1581\"/>\n",
       "<polygon fill=\"#000000\" stroke=\"#000000\" points=\"181.5001,-655.0033 178,-645.0034 174.5001,-655.0034 181.5001,-655.0033\"/>\n",
       "<text text-anchor=\"middle\" x=\"197.5\" y=\"-666.8\" font-family=\"Times,serif\" font-size=\"14.00\" fill=\"#000000\">ROOT</text>\n",
       "</g>\n",
       "<!-- 1 -->\n",
       "<g id=\"node3\" class=\"node\">\n",
       "<title>1</title>\n",
       "<text text-anchor=\"middle\" x=\"27\" y=\"-536.3\" font-family=\"Times,serif\" font-size=\"14.00\" fill=\"#000000\">1 (It)</text>\n",
       "</g>\n",
       "<!-- 4&#45;&gt;1 -->\n",
       "<g id=\"edge2\" class=\"edge\">\n",
       "<title>4&#45;&gt;1</title>\n",
       "<path fill=\"none\" stroke=\"#000000\" d=\"M150.6771,-616.0588C135.1653,-609.4778 115.5931,-600.5433 99,-591 85.1902,-583.0575 70.7181,-573.1512 58.4009,-564.1877\"/>\n",
       "<polygon fill=\"#000000\" stroke=\"#000000\" points=\"60.3756,-561.295 50.2525,-558.1684 56.2163,-566.9254 60.3756,-561.295\"/>\n",
       "<text text-anchor=\"middle\" x=\"114.5\" y=\"-579.8\" font-family=\"Times,serif\" font-size=\"14.00\" fill=\"#000000\">nsubj</text>\n",
       "</g>\n",
       "<!-- 2 -->\n",
       "<g id=\"node4\" class=\"node\">\n",
       "<title>2</title>\n",
       "<text text-anchor=\"middle\" x=\"99\" y=\"-536.3\" font-family=\"Times,serif\" font-size=\"14.00\" fill=\"#000000\">2 (is)</text>\n",
       "</g>\n",
       "<!-- 4&#45;&gt;2 -->\n",
       "<g id=\"edge3\" class=\"edge\">\n",
       "<title>4&#45;&gt;2</title>\n",
       "<path fill=\"none\" stroke=\"#000000\" d=\"M161.6311,-608.9735C150.2972,-596.4919 135.0403,-579.6899 122.4225,-565.7944\"/>\n",
       "<polygon fill=\"#000000\" stroke=\"#000000\" points=\"124.6615,-563.0538 115.3479,-558.0034 119.4793,-567.7595 124.6615,-563.0538\"/>\n",
       "<text text-anchor=\"middle\" x=\"154.5\" y=\"-579.8\" font-family=\"Times,serif\" font-size=\"14.00\" fill=\"#000000\">cop</text>\n",
       "</g>\n",
       "<!-- 3 -->\n",
       "<g id=\"node5\" class=\"node\">\n",
       "<title>3</title>\n",
       "<text text-anchor=\"middle\" x=\"178\" y=\"-536.3\" font-family=\"Times,serif\" font-size=\"14.00\" fill=\"#000000\">3 (every)</text>\n",
       "</g>\n",
       "<!-- 4&#45;&gt;3 -->\n",
       "<g id=\"edge4\" class=\"edge\">\n",
       "<title>4&#45;&gt;3</title>\n",
       "<path fill=\"none\" stroke=\"#000000\" d=\"M178,-608.9735C178,-597.1918 178,-581.5607 178,-568.1581\"/>\n",
       "<polygon fill=\"#000000\" stroke=\"#000000\" points=\"181.5001,-568.0033 178,-558.0034 174.5001,-568.0034 181.5001,-568.0033\"/>\n",
       "<text text-anchor=\"middle\" x=\"187\" y=\"-579.8\" font-family=\"Times,serif\" font-size=\"14.00\" fill=\"#000000\">det</text>\n",
       "</g>\n",
       "<!-- 6 -->\n",
       "<g id=\"node6\" class=\"node\">\n",
       "<title>6</title>\n",
       "<text text-anchor=\"middle\" x=\"274\" y=\"-536.3\" font-family=\"Times,serif\" font-size=\"14.00\" fill=\"#000000\">6 (irrational)</text>\n",
       "</g>\n",
       "<!-- 4&#45;&gt;6 -->\n",
       "<g id=\"edge5\" class=\"edge\">\n",
       "<title>4&#45;&gt;6</title>\n",
       "<path fill=\"none\" stroke=\"#000000\" d=\"M197.8913,-608.9735C211.9216,-596.2586 230.899,-579.0603 246.3936,-565.0183\"/>\n",
       "<polygon fill=\"#000000\" stroke=\"#000000\" points=\"249.0747,-567.3121 254.1342,-558.0034 244.374,-562.1251 249.0747,-567.3121\"/>\n",
       "<text text-anchor=\"middle\" x=\"248\" y=\"-579.8\" font-family=\"Times,serif\" font-size=\"14.00\" fill=\"#000000\">amod</text>\n",
       "</g>\n",
       "<!-- 25 -->\n",
       "<g id=\"node7\" class=\"node\">\n",
       "<title>25</title>\n",
       "<text text-anchor=\"middle\" x=\"363\" y=\"-536.3\" font-family=\"Times,serif\" font-size=\"14.00\" fill=\"#000000\">25 (.)</text>\n",
       "</g>\n",
       "<!-- 4&#45;&gt;25 -->\n",
       "<g id=\"edge6\" class=\"edge\">\n",
       "<title>4&#45;&gt;25</title>\n",
       "<path fill=\"none\" stroke=\"#000000\" d=\"M205.1153,-617.0648C223.1558,-610.2332 247.2599,-600.6779 268,-591 287.9347,-581.6979 309.5862,-570.1891 327.1776,-560.4597\"/>\n",
       "<polygon fill=\"#000000\" stroke=\"#000000\" points=\"328.9456,-563.4813 335.9761,-555.5552 325.5374,-557.3671 328.9456,-563.4813\"/>\n",
       "<text text-anchor=\"middle\" x=\"314\" y=\"-579.8\" font-family=\"Times,serif\" font-size=\"14.00\" fill=\"#000000\">punct</text>\n",
       "</g>\n",
       "<!-- 5 -->\n",
       "<g id=\"node8\" class=\"node\">\n",
       "<title>5</title>\n",
       "<text text-anchor=\"middle\" x=\"238\" y=\"-449.3\" font-family=\"Times,serif\" font-size=\"14.00\" fill=\"#000000\">5 (as)</text>\n",
       "</g>\n",
       "<!-- 6&#45;&gt;5 -->\n",
       "<g id=\"edge7\" class=\"edge\">\n",
       "<title>6&#45;&gt;5</title>\n",
       "<path fill=\"none\" stroke=\"#000000\" d=\"M253.8008,-521.8369C249.1423,-516.5607 244.7513,-510.463 242,-504 238.9866,-496.9212 237.5546,-488.7935 236.9787,-481.1373\"/>\n",
       "<polygon fill=\"#000000\" stroke=\"#000000\" points=\"240.4766,-481.014 236.656,-471.1321 233.4803,-481.2398 240.4766,-481.014\"/>\n",
       "<text text-anchor=\"middle\" x=\"265\" y=\"-492.8\" font-family=\"Times,serif\" font-size=\"14.00\" fill=\"#000000\">advmod</text>\n",
       "</g>\n",
       "<!-- 9 -->\n",
       "<g id=\"node9\" class=\"node\">\n",
       "<title>9</title>\n",
       "<text text-anchor=\"middle\" x=\"313\" y=\"-449.3\" font-family=\"Times,serif\" font-size=\"14.00\" fill=\"#000000\">9 (beat)</text>\n",
       "</g>\n",
       "<!-- 6&#45;&gt;9 -->\n",
       "<g id=\"edge8\" class=\"edge\">\n",
       "<title>6&#45;&gt;9</title>\n",
       "<path fill=\"none\" stroke=\"#000000\" d=\"M282.0808,-521.9735C287.4669,-509.9585 294.6475,-493.9401 300.7331,-480.3646\"/>\n",
       "<polygon fill=\"#000000\" stroke=\"#000000\" points=\"304.0327,-481.5602 304.9295,-471.0034 297.6451,-478.6967 304.0327,-481.5602\"/>\n",
       "<text text-anchor=\"middle\" x=\"315\" y=\"-492.8\" font-family=\"Times,serif\" font-size=\"14.00\" fill=\"#000000\">ccomp</text>\n",
       "</g>\n",
       "<!-- 7 -->\n",
       "<g id=\"node10\" class=\"node\">\n",
       "<title>7</title>\n",
       "<text text-anchor=\"middle\" x=\"170\" y=\"-362.3\" font-family=\"Times,serif\" font-size=\"14.00\" fill=\"#000000\">7 (that)</text>\n",
       "</g>\n",
       "<!-- 9&#45;&gt;7 -->\n",
       "<g id=\"edge9\" class=\"edge\">\n",
       "<title>9&#45;&gt;7</title>\n",
       "<path fill=\"none\" stroke=\"#000000\" d=\"M282.6993,-439.027C260.8432,-428.9463 235.1461,-417.0894 235,-417 222.4208,-409.3075 209.4632,-399.5695 198.4594,-390.6691\"/>\n",
       "<polygon fill=\"#000000\" stroke=\"#000000\" points=\"200.4055,-387.7373 190.4642,-384.0739 195.9511,-393.1372 200.4055,-387.7373\"/>\n",
       "<text text-anchor=\"middle\" x=\"249.5\" y=\"-405.8\" font-family=\"Times,serif\" font-size=\"14.00\" fill=\"#000000\">mark</text>\n",
       "</g>\n",
       "<!-- 8 -->\n",
       "<g id=\"node11\" class=\"node\">\n",
       "<title>8</title>\n",
       "<text text-anchor=\"middle\" x=\"244\" y=\"-362.3\" font-family=\"Times,serif\" font-size=\"14.00\" fill=\"#000000\">8 (we)</text>\n",
       "</g>\n",
       "<!-- 9&#45;&gt;8 -->\n",
       "<g id=\"edge10\" class=\"edge\">\n",
       "<title>9&#45;&gt;8</title>\n",
       "<path fill=\"none\" stroke=\"#000000\" d=\"M294.7824,-434.814C289.505,-429.2571 283.8599,-423.0203 279,-417 272.8576,-409.3909 266.6565,-400.7421 261.2156,-392.7559\"/>\n",
       "<polygon fill=\"#000000\" stroke=\"#000000\" points=\"264.1168,-390.798 255.6488,-384.4307 258.2979,-394.689 264.1168,-390.798\"/>\n",
       "<text text-anchor=\"middle\" x=\"294.5\" y=\"-405.8\" font-family=\"Times,serif\" font-size=\"14.00\" fill=\"#000000\">nsubj</text>\n",
       "</g>\n",
       "<!-- 10 -->\n",
       "<g id=\"node12\" class=\"node\">\n",
       "<title>10</title>\n",
       "<text text-anchor=\"middle\" x=\"318\" y=\"-362.3\" font-family=\"Times,serif\" font-size=\"14.00\" fill=\"#000000\">10 (up)</text>\n",
       "</g>\n",
       "<!-- 9&#45;&gt;10 -->\n",
       "<g id=\"edge11\" class=\"edge\">\n",
       "<title>9&#45;&gt;10</title>\n",
       "<path fill=\"none\" stroke=\"#000000\" d=\"M312.9571,-434.5701C313.0367,-424.8693 313.2968,-412.7813 314,-402 314.1589,-399.5645 314.3615,-397.0399 314.591,-394.5094\"/>\n",
       "<polygon fill=\"#000000\" stroke=\"#000000\" points=\"318.1009,-394.5912 315.6421,-384.2857 311.1376,-393.8752 318.1009,-394.5912\"/>\n",
       "<text text-anchor=\"middle\" x=\"353.5\" y=\"-405.8\" font-family=\"Times,serif\" font-size=\"14.00\" fill=\"#000000\">compound:prt</text>\n",
       "</g>\n",
       "<!-- 12 -->\n",
       "<g id=\"node13\" class=\"node\">\n",
       "<title>12</title>\n",
       "<text text-anchor=\"middle\" x=\"410\" y=\"-362.3\" font-family=\"Times,serif\" font-size=\"14.00\" fill=\"#000000\">12 (them)</text>\n",
       "</g>\n",
       "<!-- 9&#45;&gt;12 -->\n",
       "<g id=\"edge12\" class=\"edge\">\n",
       "<title>9&#45;&gt;12</title>\n",
       "<path fill=\"none\" stroke=\"#000000\" d=\"M343.1969,-445.8479C359.9292,-440.4639 379.9292,-431.4639 393,-417 398.7198,-410.6705 402.5224,-402.3591 405.0476,-394.2879\"/>\n",
       "<polygon fill=\"#000000\" stroke=\"#000000\" points=\"408.4997,-394.9178 407.6112,-384.3603 401.722,-393.1676 408.4997,-394.9178\"/>\n",
       "<text text-anchor=\"middle\" x=\"419\" y=\"-405.8\" font-family=\"Times,serif\" font-size=\"14.00\" fill=\"#000000\">nmod</text>\n",
       "</g>\n",
       "<!-- 15 -->\n",
       "<g id=\"node14\" class=\"node\">\n",
       "<title>15</title>\n",
       "<text text-anchor=\"middle\" x=\"524\" y=\"-362.3\" font-family=\"Times,serif\" font-size=\"14.00\" fill=\"#000000\">15 (is)</text>\n",
       "</g>\n",
       "<!-- 9&#45;&gt;15 -->\n",
       "<g id=\"edge13\" class=\"edge\">\n",
       "<title>9&#45;&gt;15</title>\n",
       "<path fill=\"none\" stroke=\"#000000\" d=\"M343.0393,-446.7591C369.0579,-440.8079 407.381,-430.7185 439,-417 456.2885,-409.499 474.3398,-399.0832 489.3377,-389.6189\"/>\n",
       "<polygon fill=\"#000000\" stroke=\"#000000\" points=\"491.2687,-392.5384 497.7865,-384.1856 487.4824,-386.6507 491.2687,-392.5384\"/>\n",
       "<text text-anchor=\"middle\" x=\"484.5\" y=\"-405.8\" font-family=\"Times,serif\" font-size=\"14.00\" fill=\"#000000\">advcl</text>\n",
       "</g>\n",
       "<!-- 11 -->\n",
       "<g id=\"node15\" class=\"node\">\n",
       "<title>11</title>\n",
       "<text text-anchor=\"middle\" x=\"394\" y=\"-275.3\" font-family=\"Times,serif\" font-size=\"14.00\" fill=\"#000000\">11 (on)</text>\n",
       "</g>\n",
       "<!-- 12&#45;&gt;11 -->\n",
       "<g id=\"edge14\" class=\"edge\">\n",
       "<title>12&#45;&gt;11</title>\n",
       "<path fill=\"none\" stroke=\"#000000\" d=\"M406.6848,-347.9735C404.518,-336.1918 401.6433,-320.5607 399.1785,-307.1581\"/>\n",
       "<polygon fill=\"#000000\" stroke=\"#000000\" points=\"402.5621,-306.2053 397.311,-297.0034 395.6775,-307.4715 402.5621,-306.2053\"/>\n",
       "<text text-anchor=\"middle\" x=\"415.5\" y=\"-318.8\" font-family=\"Times,serif\" font-size=\"14.00\" fill=\"#000000\">case</text>\n",
       "</g>\n",
       "<!-- 13 -->\n",
       "<g id=\"node16\" class=\"node\">\n",
       "<title>13</title>\n",
       "<text text-anchor=\"middle\" x=\"468\" y=\"-275.3\" font-family=\"Times,serif\" font-size=\"14.00\" fill=\"#000000\">13 (as)</text>\n",
       "</g>\n",
       "<!-- 15&#45;&gt;13 -->\n",
       "<g id=\"edge15\" class=\"edge\">\n",
       "<title>15&#45;&gt;13</title>\n",
       "<path fill=\"none\" stroke=\"#000000\" d=\"M511.0643,-347.8321C507.1185,-342.1688 502.8164,-335.8688 499,-330 493.9656,-322.2582 488.6793,-313.7255 483.9266,-305.891\"/>\n",
       "<polygon fill=\"#000000\" stroke=\"#000000\" points=\"486.7941,-303.8679 478.6396,-297.1038 480.7961,-307.4768 486.7941,-303.8679\"/>\n",
       "<text text-anchor=\"middle\" x=\"513.5\" y=\"-318.8\" font-family=\"Times,serif\" font-size=\"14.00\" fill=\"#000000\">mark</text>\n",
       "</g>\n",
       "<!-- 14 -->\n",
       "<g id=\"node17\" class=\"node\">\n",
       "<title>14</title>\n",
       "<text text-anchor=\"middle\" x=\"541\" y=\"-275.3\" font-family=\"Times,serif\" font-size=\"14.00\" fill=\"#000000\">14 (it)</text>\n",
       "</g>\n",
       "<!-- 15&#45;&gt;14 -->\n",
       "<g id=\"edge16\" class=\"edge\">\n",
       "<title>15&#45;&gt;14</title>\n",
       "<path fill=\"none\" stroke=\"#000000\" d=\"M527.5224,-347.9735C529.8246,-336.1918 532.879,-320.5607 535.4978,-307.1581\"/>\n",
       "<polygon fill=\"#000000\" stroke=\"#000000\" points=\"538.9993,-307.489 537.4821,-297.0034 532.1292,-306.1465 538.9993,-307.489\"/>\n",
       "<text text-anchor=\"middle\" x=\"549.5\" y=\"-318.8\" font-family=\"Times,serif\" font-size=\"14.00\" fill=\"#000000\">nsubj</text>\n",
       "</g>\n",
       "<!-- 21 -->\n",
       "<g id=\"node18\" class=\"node\">\n",
       "<title>21</title>\n",
       "<text text-anchor=\"middle\" x=\"620\" y=\"-275.3\" font-family=\"Times,serif\" font-size=\"14.00\" fill=\"#000000\">21 (hold)</text>\n",
       "</g>\n",
       "<!-- 15&#45;&gt;21 -->\n",
       "<g id=\"edge17\" class=\"edge\">\n",
       "<title>15&#45;&gt;21</title>\n",
       "<path fill=\"none\" stroke=\"#000000\" d=\"M547.7618,-347.7949C554.7369,-342.2375 562.2906,-336.0052 569,-330 577.8579,-322.0718 587.1599,-313.0099 595.3584,-304.7456\"/>\n",
       "<polygon fill=\"#000000\" stroke=\"#000000\" points=\"598.0263,-307.0241 602.533,-297.4355 593.0304,-302.1208 598.0263,-307.0241\"/>\n",
       "<text text-anchor=\"middle\" x=\"604\" y=\"-318.8\" font-family=\"Times,serif\" font-size=\"14.00\" fill=\"#000000\">ccomp</text>\n",
       "</g>\n",
       "<!-- 16 -->\n",
       "<g id=\"node19\" class=\"node\">\n",
       "<title>16</title>\n",
       "<text text-anchor=\"middle\" x=\"532\" y=\"-188.3\" font-family=\"Times,serif\" font-size=\"14.00\" fill=\"#000000\">16 (that)</text>\n",
       "</g>\n",
       "<!-- 21&#45;&gt;16 -->\n",
       "<g id=\"edge21\" class=\"edge\">\n",
       "<title>21&#45;&gt;16</title>\n",
       "<path fill=\"none\" stroke=\"#000000\" d=\"M601.7663,-260.9735C589.0232,-248.3752 571.8281,-231.3755 557.6976,-217.4055\"/>\n",
       "<polygon fill=\"#000000\" stroke=\"#000000\" points=\"559.7824,-214.545 550.2103,-210.0034 554.861,-219.5229 559.7824,-214.545\"/>\n",
       "<text text-anchor=\"middle\" x=\"596.5\" y=\"-231.8\" font-family=\"Times,serif\" font-size=\"14.00\" fill=\"#000000\">mark</text>\n",
       "</g>\n",
       "<!-- 18 -->\n",
       "<g id=\"node21\" class=\"node\">\n",
       "<title>18</title>\n",
       "<text text-anchor=\"middle\" x=\"620\" y=\"-188.3\" font-family=\"Times,serif\" font-size=\"14.00\" fill=\"#000000\">18 (group)</text>\n",
       "</g>\n",
       "<!-- 21&#45;&gt;18 -->\n",
       "<g id=\"edge22\" class=\"edge\">\n",
       "<title>21&#45;&gt;18</title>\n",
       "<path fill=\"none\" stroke=\"#000000\" d=\"M620,-260.9735C620,-249.1918 620,-233.5607 620,-220.1581\"/>\n",
       "<polygon fill=\"#000000\" stroke=\"#000000\" points=\"623.5001,-220.0033 620,-210.0034 616.5001,-220.0034 623.5001,-220.0033\"/>\n",
       "<text text-anchor=\"middle\" x=\"635.5\" y=\"-231.8\" font-family=\"Times,serif\" font-size=\"14.00\" fill=\"#000000\">nsubj</text>\n",
       "</g>\n",
       "<!-- 24 -->\n",
       "<g id=\"node24\" class=\"node\">\n",
       "<title>24</title>\n",
       "<text text-anchor=\"middle\" x=\"732\" y=\"-188.3\" font-family=\"Times,serif\" font-size=\"14.00\" fill=\"#000000\">24 (hostages)</text>\n",
       "</g>\n",
       "<!-- 21&#45;&gt;24 -->\n",
       "<g id=\"edge23\" class=\"edge\">\n",
       "<title>21&#45;&gt;24</title>\n",
       "<path fill=\"none\" stroke=\"#000000\" d=\"M643.2065,-260.9735C659.8755,-248.0253 682.5299,-230.4276 700.7835,-216.2485\"/>\n",
       "<polygon fill=\"#000000\" stroke=\"#000000\" points=\"703.073,-218.902 708.8233,-210.0034 698.7788,-213.3739 703.073,-218.902\"/>\n",
       "<text text-anchor=\"middle\" x=\"695.5\" y=\"-231.8\" font-family=\"Times,serif\" font-size=\"14.00\" fill=\"#000000\">dobj</text>\n",
       "</g>\n",
       "<!-- 17 -->\n",
       "<g id=\"node20\" class=\"node\">\n",
       "<title>17</title>\n",
       "<text text-anchor=\"middle\" x=\"531\" y=\"-101.3\" font-family=\"Times,serif\" font-size=\"14.00\" fill=\"#000000\">17 (a)</text>\n",
       "</g>\n",
       "<!-- 18&#45;&gt;17 -->\n",
       "<g id=\"edge18\" class=\"edge\">\n",
       "<title>18&#45;&gt;17</title>\n",
       "<path fill=\"none\" stroke=\"#000000\" d=\"M601.5591,-173.9735C588.5519,-161.2586 570.9582,-144.0603 556.5934,-130.0183\"/>\n",
       "<polygon fill=\"#000000\" stroke=\"#000000\" points=\"559.0148,-127.4908 549.4172,-123.0034 554.1216,-132.4965 559.0148,-127.4908\"/>\n",
       "<text text-anchor=\"middle\" x=\"590\" y=\"-144.8\" font-family=\"Times,serif\" font-size=\"14.00\" fill=\"#000000\">det</text>\n",
       "</g>\n",
       "<!-- 20 -->\n",
       "<g id=\"node22\" class=\"node\">\n",
       "<title>20</title>\n",
       "<text text-anchor=\"middle\" x=\"620\" y=\"-101.3\" font-family=\"Times,serif\" font-size=\"14.00\" fill=\"#000000\">20 (Iranians)</text>\n",
       "</g>\n",
       "<!-- 18&#45;&gt;20 -->\n",
       "<g id=\"edge19\" class=\"edge\">\n",
       "<title>18&#45;&gt;20</title>\n",
       "<path fill=\"none\" stroke=\"#000000\" d=\"M620,-173.9735C620,-162.1918 620,-146.5607 620,-133.1581\"/>\n",
       "<polygon fill=\"#000000\" stroke=\"#000000\" points=\"623.5001,-133.0033 620,-123.0034 616.5001,-133.0034 623.5001,-133.0033\"/>\n",
       "<text text-anchor=\"middle\" x=\"636\" y=\"-144.8\" font-family=\"Times,serif\" font-size=\"14.00\" fill=\"#000000\">nmod</text>\n",
       "</g>\n",
       "<!-- 19 -->\n",
       "<g id=\"node23\" class=\"node\">\n",
       "<title>19</title>\n",
       "<text text-anchor=\"middle\" x=\"620\" y=\"-14.3\" font-family=\"Times,serif\" font-size=\"14.00\" fill=\"#000000\">19 (of)</text>\n",
       "</g>\n",
       "<!-- 20&#45;&gt;19 -->\n",
       "<g id=\"edge20\" class=\"edge\">\n",
       "<title>20&#45;&gt;19</title>\n",
       "<path fill=\"none\" stroke=\"#000000\" d=\"M620,-86.9735C620,-75.1918 620,-59.5607 620,-46.1581\"/>\n",
       "<polygon fill=\"#000000\" stroke=\"#000000\" points=\"623.5001,-46.0033 620,-36.0034 616.5001,-46.0034 623.5001,-46.0033\"/>\n",
       "<text text-anchor=\"middle\" x=\"632.5\" y=\"-57.8\" font-family=\"Times,serif\" font-size=\"14.00\" fill=\"#000000\">case</text>\n",
       "</g>\n",
       "<!-- 22 -->\n",
       "<g id=\"node25\" class=\"node\">\n",
       "<title>22</title>\n",
       "<text text-anchor=\"middle\" x=\"732\" y=\"-101.3\" font-family=\"Times,serif\" font-size=\"14.00\" fill=\"#000000\">22 (fifty&#45;three)</text>\n",
       "</g>\n",
       "<!-- 24&#45;&gt;22 -->\n",
       "<g id=\"edge24\" class=\"edge\">\n",
       "<title>24&#45;&gt;22</title>\n",
       "<path fill=\"none\" stroke=\"#000000\" d=\"M732,-173.9735C732,-162.1918 732,-146.5607 732,-133.1581\"/>\n",
       "<polygon fill=\"#000000\" stroke=\"#000000\" points=\"735.5001,-133.0033 732,-123.0034 728.5001,-133.0034 735.5001,-133.0033\"/>\n",
       "<text text-anchor=\"middle\" x=\"757\" y=\"-144.8\" font-family=\"Times,serif\" font-size=\"14.00\" fill=\"#000000\">nummod</text>\n",
       "</g>\n",
       "<!-- 23 -->\n",
       "<g id=\"node26\" class=\"node\">\n",
       "<title>23</title>\n",
       "<text text-anchor=\"middle\" x=\"834\" y=\"-101.3\" font-family=\"Times,serif\" font-size=\"14.00\" fill=\"#000000\">23 (U.S.)</text>\n",
       "</g>\n",
       "<!-- 24&#45;&gt;23 -->\n",
       "<g id=\"edge25\" class=\"edge\">\n",
       "<title>24&#45;&gt;23</title>\n",
       "<path fill=\"none\" stroke=\"#000000\" d=\"M761.742,-173.9218C769.8798,-168.5138 778.5142,-162.3288 786,-156 794.9573,-148.427 803.9799,-139.3194 811.7467,-130.9092\"/>\n",
       "<polygon fill=\"#000000\" stroke=\"#000000\" points=\"814.3826,-133.2125 818.4884,-123.4455 809.188,-128.5203 814.3826,-133.2125\"/>\n",
       "<text text-anchor=\"middle\" x=\"832\" y=\"-144.8\" font-family=\"Times,serif\" font-size=\"14.00\" fill=\"#000000\">compound</text>\n",
       "</g>\n",
       "</g>\n",
       "</svg>\n"
      ],
      "text/plain": [
       "<DependencyGraph with 26 nodes>"
      ]
     },
     "metadata": {},
     "output_type": "display_data"
    },
    {
     "data": {
      "text/plain": [
       "'Text = It is every bit as irrational that we beat up on them as it is that a group of Iranians hold fifty-three U.S. hostages.'"
      ]
     },
     "metadata": {},
     "output_type": "display_data"
    },
    {
     "data": {
      "text/plain": [
       "'Code = 181'"
      ]
     },
     "metadata": {},
     "output_type": "display_data"
    }
   ],
   "source": [
    "easy_read(accent2_root18_diffCODE, 0)"
   ]
  },
  {
   "cell_type": "code",
   "execution_count": 98,
   "metadata": {},
   "outputs": [
    {
     "data": {
      "image/png": "[encoded data removed]",
      "text/plain": [
       "Tree('ROOT', [Tree('S', [Tree('S', [Tree('NP', [Tree('DT', ['The']), Tree('NNS', ['students'])]), Tree('VP', [Tree('VBD', ['did']), Tree('NP', [Tree('NN', ['nothing'])]), Tree('S', [Tree('VP', [Tree('TO', ['to']), Tree('VP', [Tree('VB', ['hurt']), Tree('NP', [Tree('PRP', ['us'])])])])])])]), Tree(',', [',']), Tree('CC', ['but']), Tree('S', [Tree('NP', [Tree('PRP', ['we'])]), Tree('VP', [Tree('VBD', ['punished']), Tree('NP', [Tree('PRP', ['them'])]), Tree('ADVP', [Tree('RB', ['severely'])])])]), Tree('.', ['.'])])])"
      ]
     },
     "metadata": {},
     "output_type": "display_data"
    },
    {
     "data": {
      "image/svg+xml": [
       "<?xml version=\"1.0\" encoding=\"UTF-8\" standalone=\"no\"?>\n",
       "<!DOCTYPE svg PUBLIC \"-//W3C//DTD SVG 1.1//EN\"\n",
       " \"http://www.w3.org/Graphics/SVG/1.1/DTD/svg11.dtd\">\n",
       "<!-- Generated by graphviz version 2.40.1 (20161225.0304)\n",
       " -->\n",
       "<!-- Title: G Pages: 1 -->\n",
       "<svg width=\"613pt\" height=\"392pt\"\n",
       " viewBox=\"0.00 0.00 613.00 392.00\" xmlns=\"http://www.w3.org/2000/svg\" xmlns:xlink=\"http://www.w3.org/1999/xlink\">\n",
       "<g id=\"graph0\" class=\"graph\" transform=\"scale(1 1) rotate(0) translate(4 388)\">\n",
       "<title>G</title>\n",
       "<polygon fill=\"#ffffff\" stroke=\"transparent\" points=\"-4,4 -4,-388 609,-388 609,4 -4,4\"/>\n",
       "<!-- 0 -->\n",
       "<g id=\"node1\" class=\"node\">\n",
       "<title>0</title>\n",
       "<text text-anchor=\"middle\" x=\"261\" y=\"-362.3\" font-family=\"Times,serif\" font-size=\"14.00\" fill=\"#000000\">0 (None)</text>\n",
       "</g>\n",
       "<!-- 3 -->\n",
       "<g id=\"node2\" class=\"node\">\n",
       "<title>3</title>\n",
       "<text text-anchor=\"middle\" x=\"261\" y=\"-275.3\" font-family=\"Times,serif\" font-size=\"14.00\" fill=\"#000000\">3 (did)</text>\n",
       "</g>\n",
       "<!-- 0&#45;&gt;3 -->\n",
       "<g id=\"edge1\" class=\"edge\">\n",
       "<title>0&#45;&gt;3</title>\n",
       "<path fill=\"none\" stroke=\"#000000\" d=\"M261,-347.9735C261,-336.1918 261,-320.5607 261,-307.1581\"/>\n",
       "<polygon fill=\"#000000\" stroke=\"#000000\" points=\"264.5001,-307.0033 261,-297.0034 257.5001,-307.0034 264.5001,-307.0033\"/>\n",
       "<text text-anchor=\"middle\" x=\"280.5\" y=\"-318.8\" font-family=\"Times,serif\" font-size=\"14.00\" fill=\"#000000\">ROOT</text>\n",
       "</g>\n",
       "<!-- 2 -->\n",
       "<g id=\"node4\" class=\"node\">\n",
       "<title>2</title>\n",
       "<text text-anchor=\"middle\" x=\"41\" y=\"-188.3\" font-family=\"Times,serif\" font-size=\"14.00\" fill=\"#000000\">2 (students)</text>\n",
       "</g>\n",
       "<!-- 3&#45;&gt;2 -->\n",
       "<g id=\"edge3\" class=\"edge\">\n",
       "<title>3&#45;&gt;2</title>\n",
       "<path fill=\"none\" stroke=\"#000000\" d=\"M233.7363,-270.5144C212.1763,-263.6188 181.4135,-253.3675 155,-243 132.6845,-234.241 108.3798,-223.5346 87.9669,-214.1968\"/>\n",
       "<polygon fill=\"#000000\" stroke=\"#000000\" points=\"89.4303,-211.0175 78.883,-210.0147 86.5029,-217.376 89.4303,-211.0175\"/>\n",
       "<text text-anchor=\"middle\" x=\"170.5\" y=\"-231.8\" font-family=\"Times,serif\" font-size=\"14.00\" fill=\"#000000\">nsubj</text>\n",
       "</g>\n",
       "<!-- 4 -->\n",
       "<g id=\"node5\" class=\"node\">\n",
       "<title>4</title>\n",
       "<text text-anchor=\"middle\" x=\"140\" y=\"-188.3\" font-family=\"Times,serif\" font-size=\"14.00\" fill=\"#000000\">4 (nothing)</text>\n",
       "</g>\n",
       "<!-- 3&#45;&gt;4 -->\n",
       "<g id=\"edge4\" class=\"edge\">\n",
       "<title>3&#45;&gt;4</title>\n",
       "<path fill=\"none\" stroke=\"#000000\" d=\"M234.4355,-260.8433C226.242,-255.1805 217.2155,-248.8779 209,-243 196.9117,-234.3513 183.7642,-224.6967 172.2196,-216.1341\"/>\n",
       "<polygon fill=\"#000000\" stroke=\"#000000\" points=\"174.2478,-213.2808 164.1347,-210.1223 170.0709,-218.898 174.2478,-213.2808\"/>\n",
       "<text text-anchor=\"middle\" x=\"221.5\" y=\"-231.8\" font-family=\"Times,serif\" font-size=\"14.00\" fill=\"#000000\">dobj</text>\n",
       "</g>\n",
       "<!-- 8 -->\n",
       "<g id=\"node6\" class=\"node\">\n",
       "<title>8</title>\n",
       "<text text-anchor=\"middle\" x=\"225\" y=\"-188.3\" font-family=\"Times,serif\" font-size=\"14.00\" fill=\"#000000\">8 (,)</text>\n",
       "</g>\n",
       "<!-- 3&#45;&gt;8 -->\n",
       "<g id=\"edge5\" class=\"edge\">\n",
       "<title>3&#45;&gt;8</title>\n",
       "<path fill=\"none\" stroke=\"#000000\" d=\"M251.3962,-260.8922C248.5434,-255.2313 245.5122,-248.9175 243,-243 239.8365,-235.5482 236.7622,-227.331 234.0758,-219.7091\"/>\n",
       "<polygon fill=\"#000000\" stroke=\"#000000\" points=\"237.3504,-218.4684 230.7928,-210.1468 230.7298,-220.7415 237.3504,-218.4684\"/>\n",
       "<text text-anchor=\"middle\" x=\"259\" y=\"-231.8\" font-family=\"Times,serif\" font-size=\"14.00\" fill=\"#000000\">punct</text>\n",
       "</g>\n",
       "<!-- 14 -->\n",
       "<g id=\"node7\" class=\"node\">\n",
       "<title>14</title>\n",
       "<text text-anchor=\"middle\" x=\"297\" y=\"-188.3\" font-family=\"Times,serif\" font-size=\"14.00\" fill=\"#000000\">14 (.)</text>\n",
       "</g>\n",
       "<!-- 3&#45;&gt;14 -->\n",
       "<g id=\"edge6\" class=\"edge\">\n",
       "<title>3&#45;&gt;14</title>\n",
       "<path fill=\"none\" stroke=\"#000000\" d=\"M268.4592,-260.9735C273.431,-248.9585 280.0593,-232.9401 285.6767,-219.3646\"/>\n",
       "<polygon fill=\"#000000\" stroke=\"#000000\" points=\"288.9608,-220.5818 289.5503,-210.0034 282.4927,-217.9053 288.9608,-220.5818\"/>\n",
       "<text text-anchor=\"middle\" x=\"298\" y=\"-231.8\" font-family=\"Times,serif\" font-size=\"14.00\" fill=\"#000000\">punct</text>\n",
       "</g>\n",
       "<!-- 9 -->\n",
       "<g id=\"node8\" class=\"node\">\n",
       "<title>9</title>\n",
       "<text text-anchor=\"middle\" x=\"369\" y=\"-188.3\" font-family=\"Times,serif\" font-size=\"14.00\" fill=\"#000000\">9 (but)</text>\n",
       "</g>\n",
       "<!-- 3&#45;&gt;9 -->\n",
       "<g id=\"edge7\" class=\"edge\">\n",
       "<title>3&#45;&gt;9</title>\n",
       "<path fill=\"none\" stroke=\"#000000\" d=\"M288.2288,-263.5068C297.9462,-257.5417 308.7663,-250.3812 318,-243 327.4354,-235.4576 337.0018,-226.3575 345.2606,-217.9448\"/>\n",
       "<polygon fill=\"#000000\" stroke=\"#000000\" points=\"348.0317,-220.1123 352.4363,-210.4765 342.9841,-215.2624 348.0317,-220.1123\"/>\n",
       "<text text-anchor=\"middle\" x=\"341.5\" y=\"-231.8\" font-family=\"Times,serif\" font-size=\"14.00\" fill=\"#000000\">cc</text>\n",
       "</g>\n",
       "<!-- 11 -->\n",
       "<g id=\"node9\" class=\"node\">\n",
       "<title>11</title>\n",
       "<text text-anchor=\"middle\" x=\"461\" y=\"-188.3\" font-family=\"Times,serif\" font-size=\"14.00\" fill=\"#000000\">11 (punished)</text>\n",
       "</g>\n",
       "<!-- 3&#45;&gt;11 -->\n",
       "<g id=\"edge8\" class=\"edge\">\n",
       "<title>3&#45;&gt;11</title>\n",
       "<path fill=\"none\" stroke=\"#000000\" d=\"M288.2539,-268.7171C306.4262,-261.7387 330.7827,-252.1504 352,-243 372.7732,-234.0411 395.4742,-223.5367 414.7557,-214.397\"/>\n",
       "<polygon fill=\"#000000\" stroke=\"#000000\" points=\"416.3986,-217.4914 423.9231,-210.0327 413.3896,-211.1711 416.3986,-217.4914\"/>\n",
       "<text text-anchor=\"middle\" x=\"398.5\" y=\"-231.8\" font-family=\"Times,serif\" font-size=\"14.00\" fill=\"#000000\">conj</text>\n",
       "</g>\n",
       "<!-- 1 -->\n",
       "<g id=\"node3\" class=\"node\">\n",
       "<title>1</title>\n",
       "<text text-anchor=\"middle\" x=\"41\" y=\"-101.3\" font-family=\"Times,serif\" font-size=\"14.00\" fill=\"#000000\">1 (The)</text>\n",
       "</g>\n",
       "<!-- 2&#45;&gt;1 -->\n",
       "<g id=\"edge2\" class=\"edge\">\n",
       "<title>2&#45;&gt;1</title>\n",
       "<path fill=\"none\" stroke=\"#000000\" d=\"M41,-173.9735C41,-162.1918 41,-146.5607 41,-133.1581\"/>\n",
       "<polygon fill=\"#000000\" stroke=\"#000000\" points=\"44.5001,-133.0033 41,-123.0034 37.5001,-133.0034 44.5001,-133.0033\"/>\n",
       "<text text-anchor=\"middle\" x=\"50\" y=\"-144.8\" font-family=\"Times,serif\" font-size=\"14.00\" fill=\"#000000\">det</text>\n",
       "</g>\n",
       "<!-- 6 -->\n",
       "<g id=\"node10\" class=\"node\">\n",
       "<title>6</title>\n",
       "<text text-anchor=\"middle\" x=\"140\" y=\"-101.3\" font-family=\"Times,serif\" font-size=\"14.00\" fill=\"#000000\">6 (hurt)</text>\n",
       "</g>\n",
       "<!-- 4&#45;&gt;6 -->\n",
       "<g id=\"edge9\" class=\"edge\">\n",
       "<title>4&#45;&gt;6</title>\n",
       "<path fill=\"none\" stroke=\"#000000\" d=\"M140,-173.9735C140,-162.1918 140,-146.5607 140,-133.1581\"/>\n",
       "<polygon fill=\"#000000\" stroke=\"#000000\" points=\"143.5001,-133.0033 140,-123.0034 136.5001,-133.0034 143.5001,-133.0033\"/>\n",
       "<text text-anchor=\"middle\" x=\"148.5\" y=\"-144.8\" font-family=\"Times,serif\" font-size=\"14.00\" fill=\"#000000\">acl</text>\n",
       "</g>\n",
       "<!-- 10 -->\n",
       "<g id=\"node13\" class=\"node\">\n",
       "<title>10</title>\n",
       "<text text-anchor=\"middle\" x=\"377\" y=\"-101.3\" font-family=\"Times,serif\" font-size=\"14.00\" fill=\"#000000\">10 (we)</text>\n",
       "</g>\n",
       "<!-- 11&#45;&gt;10 -->\n",
       "<g id=\"edge12\" class=\"edge\">\n",
       "<title>11&#45;&gt;10</title>\n",
       "<path fill=\"none\" stroke=\"#000000\" d=\"M443.1736,-173.7062C437.661,-168.0377 431.5733,-161.7665 426,-156 418.1922,-147.9215 409.706,-139.1026 402.0238,-131.1046\"/>\n",
       "<polygon fill=\"#000000\" stroke=\"#000000\" points=\"404.1145,-128.2284 394.6645,-123.438 399.0646,-133.076 404.1145,-128.2284\"/>\n",
       "<text text-anchor=\"middle\" x=\"441.5\" y=\"-144.8\" font-family=\"Times,serif\" font-size=\"14.00\" fill=\"#000000\">nsubj</text>\n",
       "</g>\n",
       "<!-- 12 -->\n",
       "<g id=\"node14\" class=\"node\">\n",
       "<title>12</title>\n",
       "<text text-anchor=\"middle\" x=\"461\" y=\"-101.3\" font-family=\"Times,serif\" font-size=\"14.00\" fill=\"#000000\">12 (them)</text>\n",
       "</g>\n",
       "<!-- 11&#45;&gt;12 -->\n",
       "<g id=\"edge13\" class=\"edge\">\n",
       "<title>11&#45;&gt;12</title>\n",
       "<path fill=\"none\" stroke=\"#000000\" d=\"M461,-173.9735C461,-162.1918 461,-146.5607 461,-133.1581\"/>\n",
       "<polygon fill=\"#000000\" stroke=\"#000000\" points=\"464.5001,-133.0033 461,-123.0034 457.5001,-133.0034 464.5001,-133.0033\"/>\n",
       "<text text-anchor=\"middle\" x=\"473.5\" y=\"-144.8\" font-family=\"Times,serif\" font-size=\"14.00\" fill=\"#000000\">dobj</text>\n",
       "</g>\n",
       "<!-- 13 -->\n",
       "<g id=\"node15\" class=\"node\">\n",
       "<title>13</title>\n",
       "<text text-anchor=\"middle\" x=\"560\" y=\"-101.3\" font-family=\"Times,serif\" font-size=\"14.00\" fill=\"#000000\">13 (severely)</text>\n",
       "</g>\n",
       "<!-- 11&#45;&gt;13 -->\n",
       "<g id=\"edge14\" class=\"edge\">\n",
       "<title>11&#45;&gt;13</title>\n",
       "<path fill=\"none\" stroke=\"#000000\" d=\"M481.5129,-173.9735C496.1144,-161.1419 515.9116,-143.7443 531.9698,-129.6326\"/>\n",
       "<polygon fill=\"#000000\" stroke=\"#000000\" points=\"534.3122,-132.2336 539.5134,-123.0034 529.6913,-126.9755 534.3122,-132.2336\"/>\n",
       "<text text-anchor=\"middle\" x=\"539\" y=\"-144.8\" font-family=\"Times,serif\" font-size=\"14.00\" fill=\"#000000\">advmod</text>\n",
       "</g>\n",
       "<!-- 5 -->\n",
       "<g id=\"node11\" class=\"node\">\n",
       "<title>5</title>\n",
       "<text text-anchor=\"middle\" x=\"104\" y=\"-14.3\" font-family=\"Times,serif\" font-size=\"14.00\" fill=\"#000000\">5 (to)</text>\n",
       "</g>\n",
       "<!-- 6&#45;&gt;5 -->\n",
       "<g id=\"edge10\" class=\"edge\">\n",
       "<title>6&#45;&gt;5</title>\n",
       "<path fill=\"none\" stroke=\"#000000\" d=\"M132.3543,-86.692C129.9915,-81.023 127.3838,-74.755 125,-69 121.8916,-61.4957 118.5374,-53.3648 115.4416,-45.8467\"/>\n",
       "<polygon fill=\"#000000\" stroke=\"#000000\" points=\"118.605,-44.3364 111.5632,-36.4204 112.1315,-47 118.605,-44.3364\"/>\n",
       "<text text-anchor=\"middle\" x=\"139.5\" y=\"-57.8\" font-family=\"Times,serif\" font-size=\"14.00\" fill=\"#000000\">mark</text>\n",
       "</g>\n",
       "<!-- 7 -->\n",
       "<g id=\"node12\" class=\"node\">\n",
       "<title>7</title>\n",
       "<text text-anchor=\"middle\" x=\"176\" y=\"-14.3\" font-family=\"Times,serif\" font-size=\"14.00\" fill=\"#000000\">7 (us)</text>\n",
       "</g>\n",
       "<!-- 6&#45;&gt;7 -->\n",
       "<g id=\"edge11\" class=\"edge\">\n",
       "<title>6&#45;&gt;7</title>\n",
       "<path fill=\"none\" stroke=\"#000000\" d=\"M147.4592,-86.9735C152.431,-74.9585 159.0593,-58.9401 164.6767,-45.3646\"/>\n",
       "<polygon fill=\"#000000\" stroke=\"#000000\" points=\"167.9608,-46.5818 168.5503,-36.0034 161.4927,-43.9053 167.9608,-46.5818\"/>\n",
       "<text text-anchor=\"middle\" x=\"173.5\" y=\"-57.8\" font-family=\"Times,serif\" font-size=\"14.00\" fill=\"#000000\">dobj</text>\n",
       "</g>\n",
       "</g>\n",
       "</svg>\n"
      ],
      "text/plain": [
       "<DependencyGraph with 15 nodes>"
      ]
     },
     "metadata": {},
     "output_type": "display_data"
    },
    {
     "data": {
      "text/plain": [
       "'Text = The students did nothing to hurt us , but we punished them severely .'"
      ]
     },
     "metadata": {},
     "output_type": "display_data"
    },
    {
     "data": {
      "text/plain": [
       "'Code = 180'"
      ]
     },
     "metadata": {},
     "output_type": "display_data"
    }
   ],
   "source": [
    "easy_read(petrarch2_root18_diffCODE, 0)"
   ]
  },
  {
   "cell_type": "code",
   "execution_count": null,
   "metadata": {},
   "outputs": [],
   "source": []
  }
 ],
 "metadata": {
  "kernelspec": {
   "display_name": "Python 3",
   "language": "python",
   "name": "python3"
  },
  "language_info": {
   "codemirror_mode": {
    "name": "ipython",
    "version": 3
   },
   "file_extension": ".py",
   "mimetype": "text/x-python",
   "name": "python",
   "nbconvert_exporter": "python",
   "pygments_lexer": "ipython3",
   "version": "3.7.0"
  }
 },
 "nbformat": 4,
 "nbformat_minor": 2
}
